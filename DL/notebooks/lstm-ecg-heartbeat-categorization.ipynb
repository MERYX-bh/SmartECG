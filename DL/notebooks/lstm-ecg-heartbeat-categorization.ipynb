{
 "metadata": {
  "kernelspec": {
   "language": "python",
   "display_name": "Python 3",
   "name": "python3"
  },
  "language_info": {
   "pygments_lexer": "ipython3",
   "nbconvert_exporter": "python",
   "version": "3.6.4",
   "file_extension": ".py",
   "codemirror_mode": {
    "name": "ipython",
    "version": 3
   },
   "name": "python",
   "mimetype": "text/x-python"
  }
 },
 "nbformat_minor": 4,
 "nbformat": 4,
 "cells": [
  {
   "cell_type": "code",
   "source": [
    "import matplotlib.pyplot as plt\n",
    "import numpy as np\n",
    "import pandas as pd\n",
    "import seaborn as sns\n",
    "# noinspection PyUnresolvedReferences\n",
    "import tensorflow.keras as tk\n",
    "# noinspection PyUnresolvedReferences\n",
    "import tensorflow.keras.layers as l\n",
    "# noinspection PyUnresolvedReferences\n",
    "from tensorflow.keras.backend import clear_session\n",
    "# noinspection PyUnresolvedReferences\n",
    "from tensorflow.keras.models import clone_model\n",
    "# noinspection PyUnresolvedReferences\n",
    "from tensorflow.keras.utils import to_categorical\n",
    "\n",
    "from utils import sub_percentage_of, plot_accuracy_and_loss"
   ],
   "metadata": {
    "_uuid": "8f2839f25d086af736a60e9eeb907d3b93b6e0e5",
    "_cell_guid": "b1076dfc-b9ad-4769-8c92-a6c4dae69d19",
    "id": "mU-LH25oo2tL",
    "trusted": true,
    "ExecuteTime": {
     "end_time": "2023-05-01T09:32:02.082139500Z",
     "start_time": "2023-05-01T09:32:02.069140700Z"
    }
   },
   "execution_count": 162,
   "outputs": []
  },
  {
   "cell_type": "code",
   "execution_count": null,
   "outputs": [],
   "source": [
    "import os\n",
    "\n",
    "working_locally = not os.path.exists('/kaggle/working') and not os.path.exists('/content')"
   ],
   "metadata": {
    "collapsed": false
   }
  },
  {
   "cell_type": "code",
   "source": [
    "if working_locally:\n",
    "    train_path = \"mitbih_train.csv\"\n",
    "    test_path = \"mitbih_test.csv\"\n",
    "else:\n",
    "    train_path = \"/kaggle/input/heartbeat/mitbih_train.csv\"\n",
    "    test_path = \"/kaggle/input/heartbeat/mitbih_test.csv\"\n",
    "\n",
    "train_df = pd.read_csv(train_path, header=None)\n",
    "test_df = pd.read_csv(test_path, header=None)\n",
    "\n",
    "test_df.index = test_df.index + train_df.shape[0]\n",
    "\n",
    "all_data = pd.concat([train_df, test_df])\n",
    "\n",
    "all_data.rename(columns={187: 'class'}, inplace=True)"
   ],
   "metadata": {
    "id": "mgHScVqlo2tN",
    "outputId": "40fd6a61-cbb1-49b7-865e-729f83759a01",
    "trusted": true,
    "ExecuteTime": {
     "end_time": "2023-05-01T09:49:22.196347800Z",
     "start_time": "2023-05-01T09:49:16.432310900Z"
    }
   },
   "execution_count": 179,
   "outputs": []
  },
  {
   "cell_type": "markdown",
   "source": [
    "# Basic EDA"
   ],
   "metadata": {
    "id": "hv3xX7FWo2tO"
   }
  },
  {
   "cell_type": "code",
   "execution_count": 180,
   "outputs": [
    {
     "data": {
      "text/plain": "          0         1         2         3         4         5         6  \\\n0  0.977941  0.926471  0.681373  0.245098  0.154412  0.191176  0.151961   \n1  0.960114  0.863248  0.461538  0.196581  0.094017  0.125356  0.099715   \n2  1.000000  0.659459  0.186486  0.070270  0.070270  0.059459  0.056757   \n3  0.925414  0.665746  0.541436  0.276243  0.196133  0.077348  0.071823   \n4  0.967136  1.000000  0.830986  0.586854  0.356808  0.248826  0.145540   \n\n          7         8         9  ...  178  179  180  181  182  183  184  185  \\\n0  0.085784  0.058824  0.049020  ...  0.0  0.0  0.0  0.0  0.0  0.0  0.0  0.0   \n1  0.088319  0.074074  0.082621  ...  0.0  0.0  0.0  0.0  0.0  0.0  0.0  0.0   \n2  0.043243  0.054054  0.045946  ...  0.0  0.0  0.0  0.0  0.0  0.0  0.0  0.0   \n3  0.060773  0.066298  0.058011  ...  0.0  0.0  0.0  0.0  0.0  0.0  0.0  0.0   \n4  0.089202  0.117371  0.150235  ...  0.0  0.0  0.0  0.0  0.0  0.0  0.0  0.0   \n\n   186  class  \n0  0.0    0.0  \n1  0.0    0.0  \n2  0.0    0.0  \n3  0.0    0.0  \n4  0.0    0.0  \n\n[5 rows x 188 columns]",
      "text/html": "<div>\n<style scoped>\n    .dataframe tbody tr th:only-of-type {\n        vertical-align: middle;\n    }\n\n    .dataframe tbody tr th {\n        vertical-align: top;\n    }\n\n    .dataframe thead th {\n        text-align: right;\n    }\n</style>\n<table border=\"1\" class=\"dataframe\">\n  <thead>\n    <tr style=\"text-align: right;\">\n      <th></th>\n      <th>0</th>\n      <th>1</th>\n      <th>2</th>\n      <th>3</th>\n      <th>4</th>\n      <th>5</th>\n      <th>6</th>\n      <th>7</th>\n      <th>8</th>\n      <th>9</th>\n      <th>...</th>\n      <th>178</th>\n      <th>179</th>\n      <th>180</th>\n      <th>181</th>\n      <th>182</th>\n      <th>183</th>\n      <th>184</th>\n      <th>185</th>\n      <th>186</th>\n      <th>class</th>\n    </tr>\n  </thead>\n  <tbody>\n    <tr>\n      <th>0</th>\n      <td>0.977941</td>\n      <td>0.926471</td>\n      <td>0.681373</td>\n      <td>0.245098</td>\n      <td>0.154412</td>\n      <td>0.191176</td>\n      <td>0.151961</td>\n      <td>0.085784</td>\n      <td>0.058824</td>\n      <td>0.049020</td>\n      <td>...</td>\n      <td>0.0</td>\n      <td>0.0</td>\n      <td>0.0</td>\n      <td>0.0</td>\n      <td>0.0</td>\n      <td>0.0</td>\n      <td>0.0</td>\n      <td>0.0</td>\n      <td>0.0</td>\n      <td>0.0</td>\n    </tr>\n    <tr>\n      <th>1</th>\n      <td>0.960114</td>\n      <td>0.863248</td>\n      <td>0.461538</td>\n      <td>0.196581</td>\n      <td>0.094017</td>\n      <td>0.125356</td>\n      <td>0.099715</td>\n      <td>0.088319</td>\n      <td>0.074074</td>\n      <td>0.082621</td>\n      <td>...</td>\n      <td>0.0</td>\n      <td>0.0</td>\n      <td>0.0</td>\n      <td>0.0</td>\n      <td>0.0</td>\n      <td>0.0</td>\n      <td>0.0</td>\n      <td>0.0</td>\n      <td>0.0</td>\n      <td>0.0</td>\n    </tr>\n    <tr>\n      <th>2</th>\n      <td>1.000000</td>\n      <td>0.659459</td>\n      <td>0.186486</td>\n      <td>0.070270</td>\n      <td>0.070270</td>\n      <td>0.059459</td>\n      <td>0.056757</td>\n      <td>0.043243</td>\n      <td>0.054054</td>\n      <td>0.045946</td>\n      <td>...</td>\n      <td>0.0</td>\n      <td>0.0</td>\n      <td>0.0</td>\n      <td>0.0</td>\n      <td>0.0</td>\n      <td>0.0</td>\n      <td>0.0</td>\n      <td>0.0</td>\n      <td>0.0</td>\n      <td>0.0</td>\n    </tr>\n    <tr>\n      <th>3</th>\n      <td>0.925414</td>\n      <td>0.665746</td>\n      <td>0.541436</td>\n      <td>0.276243</td>\n      <td>0.196133</td>\n      <td>0.077348</td>\n      <td>0.071823</td>\n      <td>0.060773</td>\n      <td>0.066298</td>\n      <td>0.058011</td>\n      <td>...</td>\n      <td>0.0</td>\n      <td>0.0</td>\n      <td>0.0</td>\n      <td>0.0</td>\n      <td>0.0</td>\n      <td>0.0</td>\n      <td>0.0</td>\n      <td>0.0</td>\n      <td>0.0</td>\n      <td>0.0</td>\n    </tr>\n    <tr>\n      <th>4</th>\n      <td>0.967136</td>\n      <td>1.000000</td>\n      <td>0.830986</td>\n      <td>0.586854</td>\n      <td>0.356808</td>\n      <td>0.248826</td>\n      <td>0.145540</td>\n      <td>0.089202</td>\n      <td>0.117371</td>\n      <td>0.150235</td>\n      <td>...</td>\n      <td>0.0</td>\n      <td>0.0</td>\n      <td>0.0</td>\n      <td>0.0</td>\n      <td>0.0</td>\n      <td>0.0</td>\n      <td>0.0</td>\n      <td>0.0</td>\n      <td>0.0</td>\n      <td>0.0</td>\n    </tr>\n  </tbody>\n</table>\n<p>5 rows × 188 columns</p>\n</div>"
     },
     "execution_count": 180,
     "metadata": {},
     "output_type": "execute_result"
    }
   ],
   "source": [
    "all_data.head()"
   ],
   "metadata": {
    "collapsed": false,
    "ExecuteTime": {
     "end_time": "2023-05-01T09:49:24.742442900Z",
     "start_time": "2023-05-01T09:49:24.704257900Z"
    }
   }
  },
  {
   "cell_type": "code",
   "source": [
    "all_data['class'].value_counts()"
   ],
   "metadata": {
    "id": "29vCaKCNo2tO",
    "outputId": "cf113e7d-5083-43ef-a2dc-aee7fe734ed0",
    "trusted": true,
    "ExecuteTime": {
     "end_time": "2023-05-01T09:27:00.741505Z",
     "start_time": "2023-05-01T09:27:00.674273200Z"
    }
   },
   "execution_count": 139,
   "outputs": [
    {
     "data": {
      "text/plain": "0.0    90589\n4.0     8039\n2.0     7236\n1.0     2779\n3.0      803\nName: class, dtype: int64"
     },
     "execution_count": 139,
     "metadata": {},
     "output_type": "execute_result"
    }
   ]
  },
  {
   "cell_type": "code",
   "source": [
    "percentages = [count / all_data.shape[0] * 100 for count in all_data['class'].value_counts()]\n",
    "\n",
    "fig, ax = plt.subplots(figsize=(12, 6))\n",
    "sns.countplot(\n",
    "    x=all_data['class'],\n",
    "    ax=ax,\n",
    "    palette=\"bright\",\n",
    "    order=all_data['class'].value_counts().index\n",
    ")\n",
    "ax.set_xticklabels(ax.get_xticklabels(), rotation=15);\n",
    "\n",
    "for percentage, count, p in zip(\n",
    "        percentages,\n",
    "        all_data['class'].value_counts(sort=True).values,\n",
    "        ax.patches):\n",
    "    percentage = f'{np.round(percentage, 2)}%'\n",
    "    x = p.get_x() + p.get_width() / 2 - 0.4\n",
    "    y = p.get_y() + p.get_height()\n",
    "    ax.annotate(str(percentage) + \" / \" + str(count), (x, y), fontsize=12, fontweight='bold')"
   ],
   "metadata": {
    "_kg_hide-input": true,
    "id": "CvgGtV3Jo2tP",
    "outputId": "848f29bc-e513-405c-eb26-ed0045d68bf3",
    "trusted": true,
    "ExecuteTime": {
     "end_time": "2023-05-01T09:27:10.596092600Z",
     "start_time": "2023-05-01T09:27:10.334107900Z"
    }
   },
   "execution_count": 140,
   "outputs": [
    {
     "data": {
      "text/plain": "<Figure size 1200x600 with 1 Axes>",
      "image/png": "[encoded data removed]"
     },
     "metadata": {},
     "output_type": "display_data"
    }
   ]
  },
  {
   "cell_type": "code",
   "execution_count": 141,
   "outputs": [],
   "source": [
    "train_final = all_data[all_data.index < train_df.shape[0]]\n",
    "test_final = all_data[all_data.index >= train_df.shape[0]]"
   ],
   "metadata": {
    "collapsed": false,
    "ExecuteTime": {
     "end_time": "2023-05-01T09:27:14.955264200Z",
     "start_time": "2023-05-01T09:27:14.859264500Z"
    }
   }
  },
  {
   "cell_type": "code",
   "execution_count": 142,
   "outputs": [
    {
     "data": {
      "text/plain": "          0         1         2         3         4         5         6  \\\n0  0.977941  0.926471  0.681373  0.245098  0.154412  0.191176  0.151961   \n1  0.960114  0.863248  0.461538  0.196581  0.094017  0.125356  0.099715   \n2  1.000000  0.659459  0.186486  0.070270  0.070270  0.059459  0.056757   \n3  0.925414  0.665746  0.541436  0.276243  0.196133  0.077348  0.071823   \n4  0.967136  1.000000  0.830986  0.586854  0.356808  0.248826  0.145540   \n\n          7         8         9  ...  178  179  180  181  182  183  184  185  \\\n0  0.085784  0.058824  0.049020  ...  0.0  0.0  0.0  0.0  0.0  0.0  0.0  0.0   \n1  0.088319  0.074074  0.082621  ...  0.0  0.0  0.0  0.0  0.0  0.0  0.0  0.0   \n2  0.043243  0.054054  0.045946  ...  0.0  0.0  0.0  0.0  0.0  0.0  0.0  0.0   \n3  0.060773  0.066298  0.058011  ...  0.0  0.0  0.0  0.0  0.0  0.0  0.0  0.0   \n4  0.089202  0.117371  0.150235  ...  0.0  0.0  0.0  0.0  0.0  0.0  0.0  0.0   \n\n   186  class  \n0  0.0    0.0  \n1  0.0    0.0  \n2  0.0    0.0  \n3  0.0    0.0  \n4  0.0    0.0  \n\n[5 rows x 188 columns]",
      "text/html": "<div>\n<style scoped>\n    .dataframe tbody tr th:only-of-type {\n        vertical-align: middle;\n    }\n\n    .dataframe tbody tr th {\n        vertical-align: top;\n    }\n\n    .dataframe thead th {\n        text-align: right;\n    }\n</style>\n<table border=\"1\" class=\"dataframe\">\n  <thead>\n    <tr style=\"text-align: right;\">\n      <th></th>\n      <th>0</th>\n      <th>1</th>\n      <th>2</th>\n      <th>3</th>\n      <th>4</th>\n      <th>5</th>\n      <th>6</th>\n      <th>7</th>\n      <th>8</th>\n      <th>9</th>\n      <th>...</th>\n      <th>178</th>\n      <th>179</th>\n      <th>180</th>\n      <th>181</th>\n      <th>182</th>\n      <th>183</th>\n      <th>184</th>\n      <th>185</th>\n      <th>186</th>\n      <th>class</th>\n    </tr>\n  </thead>\n  <tbody>\n    <tr>\n      <th>0</th>\n      <td>0.977941</td>\n      <td>0.926471</td>\n      <td>0.681373</td>\n      <td>0.245098</td>\n      <td>0.154412</td>\n      <td>0.191176</td>\n      <td>0.151961</td>\n      <td>0.085784</td>\n      <td>0.058824</td>\n      <td>0.049020</td>\n      <td>...</td>\n      <td>0.0</td>\n      <td>0.0</td>\n      <td>0.0</td>\n      <td>0.0</td>\n      <td>0.0</td>\n      <td>0.0</td>\n      <td>0.0</td>\n      <td>0.0</td>\n      <td>0.0</td>\n      <td>0.0</td>\n    </tr>\n    <tr>\n      <th>1</th>\n      <td>0.960114</td>\n      <td>0.863248</td>\n      <td>0.461538</td>\n      <td>0.196581</td>\n      <td>0.094017</td>\n      <td>0.125356</td>\n      <td>0.099715</td>\n      <td>0.088319</td>\n      <td>0.074074</td>\n      <td>0.082621</td>\n      <td>...</td>\n      <td>0.0</td>\n      <td>0.0</td>\n      <td>0.0</td>\n      <td>0.0</td>\n      <td>0.0</td>\n      <td>0.0</td>\n      <td>0.0</td>\n      <td>0.0</td>\n      <td>0.0</td>\n      <td>0.0</td>\n    </tr>\n    <tr>\n      <th>2</th>\n      <td>1.000000</td>\n      <td>0.659459</td>\n      <td>0.186486</td>\n      <td>0.070270</td>\n      <td>0.070270</td>\n      <td>0.059459</td>\n      <td>0.056757</td>\n      <td>0.043243</td>\n      <td>0.054054</td>\n      <td>0.045946</td>\n      <td>...</td>\n      <td>0.0</td>\n      <td>0.0</td>\n      <td>0.0</td>\n      <td>0.0</td>\n      <td>0.0</td>\n      <td>0.0</td>\n      <td>0.0</td>\n      <td>0.0</td>\n      <td>0.0</td>\n      <td>0.0</td>\n    </tr>\n    <tr>\n      <th>3</th>\n      <td>0.925414</td>\n      <td>0.665746</td>\n      <td>0.541436</td>\n      <td>0.276243</td>\n      <td>0.196133</td>\n      <td>0.077348</td>\n      <td>0.071823</td>\n      <td>0.060773</td>\n      <td>0.066298</td>\n      <td>0.058011</td>\n      <td>...</td>\n      <td>0.0</td>\n      <td>0.0</td>\n      <td>0.0</td>\n      <td>0.0</td>\n      <td>0.0</td>\n      <td>0.0</td>\n      <td>0.0</td>\n      <td>0.0</td>\n      <td>0.0</td>\n      <td>0.0</td>\n    </tr>\n    <tr>\n      <th>4</th>\n      <td>0.967136</td>\n      <td>1.000000</td>\n      <td>0.830986</td>\n      <td>0.586854</td>\n      <td>0.356808</td>\n      <td>0.248826</td>\n      <td>0.145540</td>\n      <td>0.089202</td>\n      <td>0.117371</td>\n      <td>0.150235</td>\n      <td>...</td>\n      <td>0.0</td>\n      <td>0.0</td>\n      <td>0.0</td>\n      <td>0.0</td>\n      <td>0.0</td>\n      <td>0.0</td>\n      <td>0.0</td>\n      <td>0.0</td>\n      <td>0.0</td>\n      <td>0.0</td>\n    </tr>\n  </tbody>\n</table>\n<p>5 rows × 188 columns</p>\n</div>"
     },
     "execution_count": 142,
     "metadata": {},
     "output_type": "execute_result"
    }
   ],
   "source": [
    "train_final.head()"
   ],
   "metadata": {
    "collapsed": false,
    "ExecuteTime": {
     "end_time": "2023-05-01T09:27:15.137265Z",
     "start_time": "2023-05-01T09:27:15.090263800Z"
    }
   }
  },
  {
   "cell_type": "code",
   "execution_count": 143,
   "outputs": [
    {
     "data": {
      "text/plain": "              0         1         2         3         4         5         6  \\\n87554  1.000000  0.758264  0.111570  0.000000  0.080579  0.078512  0.066116   \n87555  0.908425  0.783883  0.531136  0.362637  0.366300  0.344322  0.333333   \n87556  0.730088  0.212389  0.000000  0.119469  0.101770  0.101770  0.110619   \n87557  1.000000  0.910417  0.681250  0.472917  0.229167  0.068750  0.000000   \n87558  0.570470  0.399329  0.238255  0.147651  0.000000  0.003356  0.040268   \n\n              7         8         9  ...  178  179  180  181  182  183  184  \\\n87554  0.049587  0.047521  0.035124  ...  0.0  0.0  0.0  0.0  0.0  0.0  0.0   \n87555  0.307692  0.296703  0.300366  ...  0.0  0.0  0.0  0.0  0.0  0.0  0.0   \n87556  0.123894  0.115044  0.132743  ...  0.0  0.0  0.0  0.0  0.0  0.0  0.0   \n87557  0.004167  0.014583  0.054167  ...  0.0  0.0  0.0  0.0  0.0  0.0  0.0   \n87558  0.080537  0.070470  0.090604  ...  0.0  0.0  0.0  0.0  0.0  0.0  0.0   \n\n       185  186  class  \n87554  0.0  0.0    0.0  \n87555  0.0  0.0    0.0  \n87556  0.0  0.0    0.0  \n87557  0.0  0.0    0.0  \n87558  0.0  0.0    0.0  \n\n[5 rows x 188 columns]",
      "text/html": "<div>\n<style scoped>\n    .dataframe tbody tr th:only-of-type {\n        vertical-align: middle;\n    }\n\n    .dataframe tbody tr th {\n        vertical-align: top;\n    }\n\n    .dataframe thead th {\n        text-align: right;\n    }\n</style>\n<table border=\"1\" class=\"dataframe\">\n  <thead>\n    <tr style=\"text-align: right;\">\n      <th></th>\n      <th>0</th>\n      <th>1</th>\n      <th>2</th>\n      <th>3</th>\n      <th>4</th>\n      <th>5</th>\n      <th>6</th>\n      <th>7</th>\n      <th>8</th>\n      <th>9</th>\n      <th>...</th>\n      <th>178</th>\n      <th>179</th>\n      <th>180</th>\n      <th>181</th>\n      <th>182</th>\n      <th>183</th>\n      <th>184</th>\n      <th>185</th>\n      <th>186</th>\n      <th>class</th>\n    </tr>\n  </thead>\n  <tbody>\n    <tr>\n      <th>87554</th>\n      <td>1.000000</td>\n      <td>0.758264</td>\n      <td>0.111570</td>\n      <td>0.000000</td>\n      <td>0.080579</td>\n      <td>0.078512</td>\n      <td>0.066116</td>\n      <td>0.049587</td>\n      <td>0.047521</td>\n      <td>0.035124</td>\n      <td>...</td>\n      <td>0.0</td>\n      <td>0.0</td>\n      <td>0.0</td>\n      <td>0.0</td>\n      <td>0.0</td>\n      <td>0.0</td>\n      <td>0.0</td>\n      <td>0.0</td>\n      <td>0.0</td>\n      <td>0.0</td>\n    </tr>\n    <tr>\n      <th>87555</th>\n      <td>0.908425</td>\n      <td>0.783883</td>\n      <td>0.531136</td>\n      <td>0.362637</td>\n      <td>0.366300</td>\n      <td>0.344322</td>\n      <td>0.333333</td>\n      <td>0.307692</td>\n      <td>0.296703</td>\n      <td>0.300366</td>\n      <td>...</td>\n      <td>0.0</td>\n      <td>0.0</td>\n      <td>0.0</td>\n      <td>0.0</td>\n      <td>0.0</td>\n      <td>0.0</td>\n      <td>0.0</td>\n      <td>0.0</td>\n      <td>0.0</td>\n      <td>0.0</td>\n    </tr>\n    <tr>\n      <th>87556</th>\n      <td>0.730088</td>\n      <td>0.212389</td>\n      <td>0.000000</td>\n      <td>0.119469</td>\n      <td>0.101770</td>\n      <td>0.101770</td>\n      <td>0.110619</td>\n      <td>0.123894</td>\n      <td>0.115044</td>\n      <td>0.132743</td>\n      <td>...</td>\n      <td>0.0</td>\n      <td>0.0</td>\n      <td>0.0</td>\n      <td>0.0</td>\n      <td>0.0</td>\n      <td>0.0</td>\n      <td>0.0</td>\n      <td>0.0</td>\n      <td>0.0</td>\n      <td>0.0</td>\n    </tr>\n    <tr>\n      <th>87557</th>\n      <td>1.000000</td>\n      <td>0.910417</td>\n      <td>0.681250</td>\n      <td>0.472917</td>\n      <td>0.229167</td>\n      <td>0.068750</td>\n      <td>0.000000</td>\n      <td>0.004167</td>\n      <td>0.014583</td>\n      <td>0.054167</td>\n      <td>...</td>\n      <td>0.0</td>\n      <td>0.0</td>\n      <td>0.0</td>\n      <td>0.0</td>\n      <td>0.0</td>\n      <td>0.0</td>\n      <td>0.0</td>\n      <td>0.0</td>\n      <td>0.0</td>\n      <td>0.0</td>\n    </tr>\n    <tr>\n      <th>87558</th>\n      <td>0.570470</td>\n      <td>0.399329</td>\n      <td>0.238255</td>\n      <td>0.147651</td>\n      <td>0.000000</td>\n      <td>0.003356</td>\n      <td>0.040268</td>\n      <td>0.080537</td>\n      <td>0.070470</td>\n      <td>0.090604</td>\n      <td>...</td>\n      <td>0.0</td>\n      <td>0.0</td>\n      <td>0.0</td>\n      <td>0.0</td>\n      <td>0.0</td>\n      <td>0.0</td>\n      <td>0.0</td>\n      <td>0.0</td>\n      <td>0.0</td>\n      <td>0.0</td>\n    </tr>\n  </tbody>\n</table>\n<p>5 rows × 188 columns</p>\n</div>"
     },
     "execution_count": 143,
     "metadata": {},
     "output_type": "execute_result"
    }
   ],
   "source": [
    "test_final.head()"
   ],
   "metadata": {
    "collapsed": false,
    "ExecuteTime": {
     "end_time": "2023-05-01T09:27:30.176672300Z",
     "start_time": "2023-05-01T09:27:30.123461100Z"
    }
   }
  },
  {
   "cell_type": "code",
   "execution_count": 144,
   "outputs": [
    {
     "data": {
      "text/plain": "(87554, 188)"
     },
     "execution_count": 144,
     "metadata": {},
     "output_type": "execute_result"
    }
   ],
   "source": [
    "train_final.shape"
   ],
   "metadata": {
    "collapsed": false,
    "ExecuteTime": {
     "end_time": "2023-05-01T09:27:37.686315100Z",
     "start_time": "2023-05-01T09:27:37.657945900Z"
    }
   }
  },
  {
   "cell_type": "code",
   "execution_count": 145,
   "outputs": [
    {
     "data": {
      "text/plain": "(21892, 188)"
     },
     "execution_count": 145,
     "metadata": {},
     "output_type": "execute_result"
    }
   ],
   "source": [
    "test_final.shape"
   ],
   "metadata": {
    "collapsed": false,
    "ExecuteTime": {
     "end_time": "2023-05-01T09:27:38.060272300Z",
     "start_time": "2023-05-01T09:27:37.962438600Z"
    }
   }
  },
  {
   "cell_type": "markdown",
   "source": [
    "# Models"
   ],
   "metadata": {}
  },
  {
   "cell_type": "code",
   "execution_count": 146,
   "outputs": [],
   "source": [
    "class_names =  [\"Normal\", \"Artial Premature\", \"Premature ventricular contraction\", \"Fusion of ventricular and normal\", \"Fusion of paced and normal\"]\n",
    "number_of_features = 187"
   ],
   "metadata": {
    "collapsed": false,
    "ExecuteTime": {
     "end_time": "2023-05-01T09:29:51.699529800Z",
     "start_time": "2023-05-01T09:29:51.648532200Z"
    }
   }
  },
  {
   "cell_type": "code",
   "source": [
    "def build_model():\n",
    "    model = tk.Sequential([\n",
    "        l.Conv1D(32, kernel_size=5, strides=2, activation=\"relu\"),\n",
    "        l.BatchNormalization(),\n",
    "        l.Conv1D(64, kernel_size=5, strides=2, activation=\"relu\"),\n",
    "        l.BatchNormalization(),\n",
    "        l.Conv1D(128, kernel_size=3, strides=2, activation=\"relu\"),\n",
    "        l.BatchNormalization(),\n",
    "        l.LSTM(128, return_sequences=True),\n",
    "        l.LSTM(128),\n",
    "        l.Dense(len(class_names), activation=\"softmax\")\n",
    "    ])\n",
    "    optimizer = tk.optimizers.SGD(learning_rate=1e-2, clipnorm=1.)\n",
    "    model.compile(loss=\"sparse_categorical_crossentropy\",\n",
    "                  optimizer=optimizer,\n",
    "                  metrics=[\"accuracy\", \"sparse_top_k_categorical_accuracy\"])\n",
    "    return model\n"
   ],
   "metadata": {
    "id": "0nhtdB6Vo2tQ",
    "trusted": true,
    "pycharm": {
     "is_executing": true
    },
    "ExecuteTime": {
     "end_time": "2023-05-01T09:29:51.728561800Z",
     "start_time": "2023-05-01T09:29:51.692529700Z"
    }
   },
   "execution_count": 147,
   "outputs": []
  },
  {
   "cell_type": "markdown",
   "source": [
    "# Training stage"
   ],
   "metadata": {}
  },
  {
   "cell_type": "code",
   "execution_count": 164,
   "outputs": [],
   "source": [
    "from sklearn.model_selection import train_test_split\n",
    "\n",
    "\n",
    "\n",
    "X = train_final.iloc[:, :-1].values\n",
    "y = train_final.iloc[:, -1].values\n",
    "\n",
    "y = to_categorical(y, num_classes=len(class_names))\n",
    "\n",
    "X_train, X_valid, y_train, y_valid = train_test_split(X, y, test_size=0.2, random_state=42)\n",
    "X_test = test_final.iloc[:, :-1].values\n",
    "y_test = test_final.iloc[:, -1].values\n",
    "y_test = to_categorical(y_test, num_classes=len(class_names))"
   ],
   "metadata": {
    "collapsed": false,
    "ExecuteTime": {
     "end_time": "2023-05-01T09:34:17.313107500Z",
     "start_time": "2023-05-01T09:34:07.654108700Z"
    }
   }
  },
  {
   "cell_type": "code",
   "execution_count": 165,
   "outputs": [
    {
     "name": "stdout",
     "output_type": "stream",
     "text": [
      "(3502, 187) (3502, 5)\n",
      "(1094, 187) (1094, 5)\n"
     ]
    }
   ],
   "source": [
    "if working_locally:\n",
    "    X_train, y_train = sub_percentage_of(X_train, y_train, 0.05)\n",
    "    X_valid, y_valid = sub_percentage_of(X_valid, y_valid, 0.05)\n",
    "    X_test, y_test = sub_percentage_of(X_test, y_test, 0.05)\n",
    "\n",
    "print(X_train.shape, y_train.shape)\n",
    "print(X_test.shape, y_test.shape)"
   ],
   "metadata": {
    "collapsed": false,
    "ExecuteTime": {
     "end_time": "2023-05-01T09:34:19.114211100Z",
     "start_time": "2023-05-01T09:34:19.087032300Z"
    }
   }
  },
  {
   "cell_type": "code",
   "execution_count": 166,
   "outputs": [],
   "source": [
    "def build_model():\n",
    "    model = tk.Sequential([\n",
    "        l.Conv1D(32, kernel_size=5, strides=2, activation=\"relu\", input_shape=(187, 1)),\n",
    "        l.BatchNormalization(),\n",
    "        l.Conv1D(64, kernel_size=5, strides=2, activation=\"relu\"),\n",
    "        l.BatchNormalization(),\n",
    "        l.Conv1D(128, kernel_size=3, strides=2, activation=\"relu\"),\n",
    "        l.BatchNormalization(),\n",
    "        l.LSTM(128, return_sequences=True),\n",
    "        l.LSTM(128),\n",
    "        l.Dense(len(class_names), activation=\"softmax\")\n",
    "    ])\n",
    "    optimizer = tk.optimizers.SGD(learning_rate=1e-2, clipnorm=1.)\n",
    "    model.compile(loss=\"categorical_crossentropy\",\n",
    "                  optimizer=optimizer,\n",
    "                  metrics=[\"accuracy\"])\n",
    "    return model\n"
   ],
   "metadata": {
    "collapsed": false,
    "ExecuteTime": {
     "end_time": "2023-05-01T09:34:20.640638500Z",
     "start_time": "2023-05-01T09:34:20.620638700Z"
    }
   }
  },
  {
   "cell_type": "code",
   "source": [
    "model = build_model()\n",
    "early_stopping = tk.callbacks.EarlyStopping(patience=10, restore_best_weights=True)\n",
    "history = model.fit(X_train, y_train,\n",
    "                    epochs=10,\n",
    "                    validation_data=(X_valid, y_valid),\n",
    "                    callbacks=[early_stopping])"
   ],
   "metadata": {
    "id": "vbsXrltbo2tT",
    "trusted": true,
    "ExecuteTime": {
     "end_time": "2023-05-01T09:35:26.840489400Z",
     "start_time": "2023-05-01T09:34:21.253406200Z"
    }
   },
   "execution_count": 167,
   "outputs": [
    {
     "name": "stdout",
     "output_type": "stream",
     "text": [
      "Epoch 1/10\n",
      "110/110 [==============================] - 13s 58ms/step - loss: 0.7813 - accuracy: 0.7953 - val_loss: 0.9537 - val_accuracy: 0.8263\n",
      "Epoch 2/10\n",
      "110/110 [==============================] - 5s 45ms/step - loss: 0.6427 - accuracy: 0.8281 - val_loss: 0.7650 - val_accuracy: 0.8263\n",
      "Epoch 3/10\n",
      "110/110 [==============================] - 5s 45ms/step - loss: 0.5974 - accuracy: 0.8281 - val_loss: 0.7138 - val_accuracy: 0.8263\n",
      "Epoch 4/10\n",
      "110/110 [==============================] - 5s 45ms/step - loss: 0.5512 - accuracy: 0.8298 - val_loss: 0.6589 - val_accuracy: 0.8263\n",
      "Epoch 5/10\n",
      "110/110 [==============================] - 5s 47ms/step - loss: 0.4982 - accuracy: 0.8487 - val_loss: 0.5709 - val_accuracy: 0.8331\n",
      "Epoch 6/10\n",
      "110/110 [==============================] - 6s 52ms/step - loss: 0.4488 - accuracy: 0.8746 - val_loss: 0.4921 - val_accuracy: 0.8457\n",
      "Epoch 7/10\n",
      "110/110 [==============================] - 8s 71ms/step - loss: 0.4100 - accuracy: 0.8864 - val_loss: 0.4442 - val_accuracy: 0.8697\n",
      "Epoch 8/10\n",
      "110/110 [==============================] - 7s 68ms/step - loss: 0.3804 - accuracy: 0.8955 - val_loss: 0.4013 - val_accuracy: 0.8880\n",
      "Epoch 9/10\n",
      "110/110 [==============================] - 5s 47ms/step - loss: 0.3585 - accuracy: 0.8992 - val_loss: 0.3645 - val_accuracy: 0.9097\n",
      "Epoch 10/10\n",
      "110/110 [==============================] - 5s 48ms/step - loss: 0.3354 - accuracy: 0.9081 - val_loss: 0.3551 - val_accuracy: 0.8971\n"
     ]
    }
   ]
  },
  {
   "cell_type": "code",
   "execution_count": 168,
   "outputs": [
    {
     "name": "stdout",
     "output_type": "stream",
     "text": [
      "35/35 [==============================] - 1s 17ms/step - loss: 0.1202 - accuracy: 0.9854\n"
     ]
    },
    {
     "data": {
      "text/plain": "[0.12023133784532547, 0.9853747487068176]"
     },
     "execution_count": 168,
     "metadata": {},
     "output_type": "execute_result"
    }
   ],
   "source": [
    "model.evaluate(X_test, y_test)"
   ],
   "metadata": {
    "collapsed": false,
    "ExecuteTime": {
     "end_time": "2023-05-01T09:35:27.615489400Z",
     "start_time": "2023-05-01T09:35:26.834491800Z"
    }
   }
  },
  {
   "cell_type": "code",
   "execution_count": 153,
   "outputs": [],
   "source": [
    "model.save('model.h5')"
   ],
   "metadata": {
    "collapsed": false,
    "ExecuteTime": {
     "end_time": "2023-05-01T09:30:59.838697100Z",
     "start_time": "2023-05-01T09:30:59.513696600Z"
    }
   }
  },
  {
   "cell_type": "markdown",
   "source": [
    "### retraining using a balanced dataset"
   ],
   "metadata": {
    "collapsed": false
   }
  },
  {
   "cell_type": "code",
   "execution_count": 154,
   "outputs": [],
   "source": [
    "from sklearn.utils import resample\n",
    "\n",
    "\n",
    "def get_balanced_data():\n",
    "    class0_df = train_df[train_df[187] == 0]\n",
    "    class1_df = train_df[train_df[187] == 1]\n",
    "    class2_df = train_df[train_df[187] == 2]\n",
    "    class3_df = train_df[train_df[187] == 3]\n",
    "    class4_df = train_df[train_df[187] == 4]\n",
    "\n",
    "    class1_up_sampled = resample(class1_df, n_samples=20000, replace=True, random_state=1)\n",
    "    class2_up_sampled = resample(class2_df, n_samples=20000, replace=True, random_state=1)\n",
    "    class3_up_sampled = resample(class3_df, n_samples=20000, replace=True, random_state=1)\n",
    "    class4_up_sampled = resample(class4_df, n_samples=20000, replace=True, random_state=1)\n",
    "\n",
    "    class0_down_sampled = class0_df.sample(n=20000, random_state=0)\n",
    "\n",
    "    return pd.concat([class0_down_sampled,\n",
    "                      class1_up_sampled,\n",
    "                      class2_up_sampled,\n",
    "                      class3_up_sampled,\n",
    "                      class4_up_sampled])\n"
   ],
   "metadata": {
    "collapsed": false,
    "ExecuteTime": {
     "end_time": "2023-05-01T09:30:59.855729200Z",
     "start_time": "2023-05-01T09:30:59.845697Z"
    }
   }
  },
  {
   "cell_type": "code",
   "execution_count": 155,
   "outputs": [],
   "source": [
    "balanced_train_df = get_balanced_data()"
   ],
   "metadata": {
    "collapsed": false,
    "ExecuteTime": {
     "end_time": "2023-05-01T09:31:00.077697100Z",
     "start_time": "2023-05-01T09:30:59.858695600Z"
    }
   }
  },
  {
   "cell_type": "code",
   "execution_count": 156,
   "outputs": [],
   "source": [
    "X = balanced_train_df.iloc[:, :-1].values\n",
    "y = balanced_train_df.iloc[:, -1].values\n",
    "\n",
    "y = to_categorical(y, num_classes=len(class_names))\n",
    "\n",
    "X_train, X_valid, y_train, y_valid = train_test_split(X, y, test_size=0.2, random_state=42)"
   ],
   "metadata": {
    "collapsed": false,
    "ExecuteTime": {
     "end_time": "2023-05-01T09:31:00.517354500Z",
     "start_time": "2023-05-01T09:31:00.081698900Z"
    }
   }
  },
  {
   "cell_type": "code",
   "execution_count": 157,
   "outputs": [
    {
     "name": "stdout",
     "output_type": "stream",
     "text": [
      "(4000, 187) (4000, 5)\n",
      "(1000, 187) (1000, 5)\n"
     ]
    }
   ],
   "source": [
    "if working_locally:\n",
    "    X_train, y_train = sub_percentage_of(X_train, y_train, 0.05)\n",
    "    X_valid, y_valid = sub_percentage_of(X_valid, y_valid, 0.05)\n",
    "\n",
    "print(X_train.shape, y_train.shape)\n",
    "print(X_valid.shape, y_valid.shape)"
   ],
   "metadata": {
    "collapsed": false,
    "ExecuteTime": {
     "end_time": "2023-05-01T09:31:00.533340Z",
     "start_time": "2023-05-01T09:31:00.521339800Z"
    }
   }
  },
  {
   "cell_type": "code",
   "execution_count": 178,
   "outputs": [
    {
     "name": "stdout",
     "output_type": "stream",
     "text": [
      "Epoch 1/10\n",
      "110/110 [==============================] - 12s 56ms/step - loss: 0.7940 - accuracy: 0.7933 - val_loss: 1.0363 - val_accuracy: 0.8263\n",
      "Epoch 2/10\n",
      "110/110 [==============================] - 5s 44ms/step - loss: 0.6311 - accuracy: 0.8281 - val_loss: 0.9241 - val_accuracy: 0.8263\n",
      "Epoch 3/10\n",
      "110/110 [==============================] - 5s 45ms/step - loss: 0.5874 - accuracy: 0.8281 - val_loss: 0.9067 - val_accuracy: 0.8263\n",
      "Epoch 4/10\n",
      "110/110 [==============================] - 5s 46ms/step - loss: 0.5526 - accuracy: 0.8312 - val_loss: 0.8522 - val_accuracy: 0.8263\n",
      "Epoch 5/10\n",
      "110/110 [==============================] - 5s 46ms/step - loss: 0.5146 - accuracy: 0.8452 - val_loss: 0.6795 - val_accuracy: 0.8377\n",
      "Epoch 6/10\n",
      "110/110 [==============================] - 5s 45ms/step - loss: 0.4755 - accuracy: 0.8595 - val_loss: 0.5208 - val_accuracy: 0.8469\n",
      "Epoch 7/10\n",
      "110/110 [==============================] - 5s 44ms/step - loss: 0.4383 - accuracy: 0.8746 - val_loss: 0.4946 - val_accuracy: 0.8400\n",
      "Epoch 8/10\n",
      "110/110 [==============================] - 5s 47ms/step - loss: 0.4097 - accuracy: 0.8815 - val_loss: 0.4014 - val_accuracy: 0.8960\n",
      "Epoch 9/10\n",
      "110/110 [==============================] - 5s 45ms/step - loss: 0.3732 - accuracy: 0.9012 - val_loss: 0.4387 - val_accuracy: 0.8720\n",
      "Epoch 10/10\n",
      "110/110 [==============================] - 5s 44ms/step - loss: 0.3486 - accuracy: 0.9086 - val_loss: 0.3800 - val_accuracy: 0.8903\n"
     ]
    }
   ],
   "source": [
    "model = build_model()\n",
    "early_stopping = tk.callbacks.EarlyStopping(patience=10, restore_best_weights=True)\n",
    "history = model.fit(X_train, y_train,\n",
    "                    epochs=10,\n",
    "                    validation_data=(X_valid, y_valid),\n",
    "                    callbacks=[early_stopping])"
   ],
   "metadata": {
    "collapsed": false,
    "ExecuteTime": {
     "end_time": "2023-05-01T09:43:35.694603Z",
     "start_time": "2023-05-01T09:42:36.847607400Z"
    }
   }
  },
  {
   "cell_type": "code",
   "execution_count": 159,
   "outputs": [
    {
     "data": {
      "text/plain": "<Figure size 1500x500 with 2 Axes>",
      "image/png": "[encoded data removed]"
     },
     "metadata": {},
     "output_type": "display_data"
    }
   ],
   "source": [
    "plot_accuracy_and_loss(history)"
   ],
   "metadata": {
    "collapsed": false,
    "ExecuteTime": {
     "end_time": "2023-05-01T09:32:01.069139400Z",
     "start_time": "2023-05-01T09:32:00.442326200Z"
    }
   }
  },
  {
   "cell_type": "code",
   "execution_count": 160,
   "outputs": [
    {
     "name": "stdout",
     "output_type": "stream",
     "text": [
      "35/35 [==============================] - 1s 15ms/step - loss: 0.9306 - accuracy: 0.5530\n"
     ]
    },
    {
     "data": {
      "text/plain": "[0.9306069016456604, 0.5530164241790771]"
     },
     "execution_count": 160,
     "metadata": {},
     "output_type": "execute_result"
    }
   ],
   "source": [
    "model.evaluate(X_test, y_test)"
   ],
   "metadata": {
    "collapsed": false,
    "ExecuteTime": {
     "end_time": "2023-05-01T09:32:01.768137200Z",
     "start_time": "2023-05-01T09:32:01.073139400Z"
    }
   }
  },
  {
   "cell_type": "code",
   "execution_count": 161,
   "outputs": [],
   "source": [
    "model.save('model_trained_on_balanced_data.h5')"
   ],
   "metadata": {
    "collapsed": false,
    "ExecuteTime": {
     "end_time": "2023-05-01T09:32:01.773140700Z",
     "start_time": "2023-05-01T09:32:01.711140900Z"
    }
   }
  }
 ]
}
