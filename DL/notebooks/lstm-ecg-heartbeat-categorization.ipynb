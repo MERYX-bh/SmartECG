{
 "metadata": {
  "kernelspec": {
   "language": "python",
   "display_name": "Python 3",
   "name": "python3"
  },
  "language_info": {
   "pygments_lexer": "ipython3",
   "nbconvert_exporter": "python",
   "version": "3.6.4",
   "file_extension": ".py",
   "codemirror_mode": {
    "name": "ipython",
    "version": 3
   },
   "name": "python",
   "mimetype": "text/x-python"
  }
 },
 "nbformat_minor": 4,
 "nbformat": 4,
 "cells": [
  {
   "cell_type": "code",
   "source": [
    "import matplotlib.pyplot as plt\n",
    "import numpy as np\n",
    "import pandas as pd\n",
    "import seaborn as sns\n",
    "# noinspection PyUnresolvedReferences\n",
    "import tensorflow.keras as tk\n",
    "# noinspection PyUnresolvedReferences\n",
    "import tensorflow.keras.layers as l\n",
    "# noinspection PyUnresolvedReferences\n",
    "from tensorflow.keras.backend import clear_session\n",
    "# noinspection PyUnresolvedReferences\n",
    "from tensorflow.keras.models import clone_model\n",
    "# noinspection PyUnresolvedReferences\n",
    "from tensorflow.keras.utils import to_categorical\n",
    "from sklearn.metrics import confusion_matrix, ConfusionMatrixDisplay, classification_report\n",
    "\n",
    "from utils import sub_percentage_of, plot_accuracy_and_loss, plot_categorical_distribution_with_percentage"
   ],
   "metadata": {
    "_uuid": "8f2839f25d086af736a60e9eeb907d3b93b6e0e5",
    "_cell_guid": "b1076dfc-b9ad-4769-8c92-a6c4dae69d19",
    "id": "mU-LH25oo2tL",
    "trusted": true,
    "ExecuteTime": {
     "end_time": "2023-05-02T09:15:18.753649400Z",
     "start_time": "2023-05-02T09:15:18.646654300Z"
    }
   },
   "execution_count": 3,
   "outputs": []
  },
  {
   "cell_type": "code",
   "execution_count": 4,
   "outputs": [],
   "source": [
    "import os\n",
    "\n",
    "working_locally = not os.path.exists('/kaggle/working') and not os.path.exists('/content')"
   ],
   "metadata": {
    "collapsed": false,
    "ExecuteTime": {
     "end_time": "2023-05-02T09:15:18.753649400Z",
     "start_time": "2023-05-02T09:15:18.667655600Z"
    }
   }
  },
  {
   "cell_type": "code",
   "source": [
    "if working_locally:\n",
    "    train_path = \"mitbih_train.csv\"\n",
    "    test_path = \"mitbih_test.csv\"\n",
    "else:\n",
    "    train_path = \"/kaggle/input/heartbeat/mitbih_train.csv\"\n",
    "    test_path = \"/kaggle/input/heartbeat/mitbih_test.csv\"\n",
    "\n",
    "train_df = pd.read_csv(train_path, header=None)\n",
    "test_df = pd.read_csv(test_path, header=None)\n",
    "\n",
    "test_df.index = test_df.index + train_df.shape[0]\n",
    "\n",
    "all_data = pd.concat([train_df, test_df])\n",
    "\n",
    "all_data.rename(columns={187: 'class'}, inplace=True)"
   ],
   "metadata": {
    "id": "mgHScVqlo2tN",
    "outputId": "40fd6a61-cbb1-49b7-865e-729f83759a01",
    "trusted": true,
    "ExecuteTime": {
     "end_time": "2023-05-02T09:15:24.991648200Z",
     "start_time": "2023-05-02T09:15:18.684648500Z"
    }
   },
   "execution_count": 5,
   "outputs": []
  },
  {
   "cell_type": "markdown",
   "source": [
    "# Basic EDA"
   ],
   "metadata": {
    "id": "hv3xX7FWo2tO"
   }
  },
  {
   "cell_type": "code",
   "execution_count": 6,
   "outputs": [
    {
     "data": {
      "text/plain": "          0         1         2         3         4         5         6  \\\n0  0.977941  0.926471  0.681373  0.245098  0.154412  0.191176  0.151961   \n1  0.960114  0.863248  0.461538  0.196581  0.094017  0.125356  0.099715   \n2  1.000000  0.659459  0.186486  0.070270  0.070270  0.059459  0.056757   \n3  0.925414  0.665746  0.541436  0.276243  0.196133  0.077348  0.071823   \n4  0.967136  1.000000  0.830986  0.586854  0.356808  0.248826  0.145540   \n\n          7         8         9  ...  178  179  180  181  182  183  184  185  \\\n0  0.085784  0.058824  0.049020  ...  0.0  0.0  0.0  0.0  0.0  0.0  0.0  0.0   \n1  0.088319  0.074074  0.082621  ...  0.0  0.0  0.0  0.0  0.0  0.0  0.0  0.0   \n2  0.043243  0.054054  0.045946  ...  0.0  0.0  0.0  0.0  0.0  0.0  0.0  0.0   \n3  0.060773  0.066298  0.058011  ...  0.0  0.0  0.0  0.0  0.0  0.0  0.0  0.0   \n4  0.089202  0.117371  0.150235  ...  0.0  0.0  0.0  0.0  0.0  0.0  0.0  0.0   \n\n   186  class  \n0  0.0    0.0  \n1  0.0    0.0  \n2  0.0    0.0  \n3  0.0    0.0  \n4  0.0    0.0  \n\n[5 rows x 188 columns]",
      "text/html": "<div>\n<style scoped>\n    .dataframe tbody tr th:only-of-type {\n        vertical-align: middle;\n    }\n\n    .dataframe tbody tr th {\n        vertical-align: top;\n    }\n\n    .dataframe thead th {\n        text-align: right;\n    }\n</style>\n<table border=\"1\" class=\"dataframe\">\n  <thead>\n    <tr style=\"text-align: right;\">\n      <th></th>\n      <th>0</th>\n      <th>1</th>\n      <th>2</th>\n      <th>3</th>\n      <th>4</th>\n      <th>5</th>\n      <th>6</th>\n      <th>7</th>\n      <th>8</th>\n      <th>9</th>\n      <th>...</th>\n      <th>178</th>\n      <th>179</th>\n      <th>180</th>\n      <th>181</th>\n      <th>182</th>\n      <th>183</th>\n      <th>184</th>\n      <th>185</th>\n      <th>186</th>\n      <th>class</th>\n    </tr>\n  </thead>\n  <tbody>\n    <tr>\n      <th>0</th>\n      <td>0.977941</td>\n      <td>0.926471</td>\n      <td>0.681373</td>\n      <td>0.245098</td>\n      <td>0.154412</td>\n      <td>0.191176</td>\n      <td>0.151961</td>\n      <td>0.085784</td>\n      <td>0.058824</td>\n      <td>0.049020</td>\n      <td>...</td>\n      <td>0.0</td>\n      <td>0.0</td>\n      <td>0.0</td>\n      <td>0.0</td>\n      <td>0.0</td>\n      <td>0.0</td>\n      <td>0.0</td>\n      <td>0.0</td>\n      <td>0.0</td>\n      <td>0.0</td>\n    </tr>\n    <tr>\n      <th>1</th>\n      <td>0.960114</td>\n      <td>0.863248</td>\n      <td>0.461538</td>\n      <td>0.196581</td>\n      <td>0.094017</td>\n      <td>0.125356</td>\n      <td>0.099715</td>\n      <td>0.088319</td>\n      <td>0.074074</td>\n      <td>0.082621</td>\n      <td>...</td>\n      <td>0.0</td>\n      <td>0.0</td>\n      <td>0.0</td>\n      <td>0.0</td>\n      <td>0.0</td>\n      <td>0.0</td>\n      <td>0.0</td>\n      <td>0.0</td>\n      <td>0.0</td>\n      <td>0.0</td>\n    </tr>\n    <tr>\n      <th>2</th>\n      <td>1.000000</td>\n      <td>0.659459</td>\n      <td>0.186486</td>\n      <td>0.070270</td>\n      <td>0.070270</td>\n      <td>0.059459</td>\n      <td>0.056757</td>\n      <td>0.043243</td>\n      <td>0.054054</td>\n      <td>0.045946</td>\n      <td>...</td>\n      <td>0.0</td>\n      <td>0.0</td>\n      <td>0.0</td>\n      <td>0.0</td>\n      <td>0.0</td>\n      <td>0.0</td>\n      <td>0.0</td>\n      <td>0.0</td>\n      <td>0.0</td>\n      <td>0.0</td>\n    </tr>\n    <tr>\n      <th>3</th>\n      <td>0.925414</td>\n      <td>0.665746</td>\n      <td>0.541436</td>\n      <td>0.276243</td>\n      <td>0.196133</td>\n      <td>0.077348</td>\n      <td>0.071823</td>\n      <td>0.060773</td>\n      <td>0.066298</td>\n      <td>0.058011</td>\n      <td>...</td>\n      <td>0.0</td>\n      <td>0.0</td>\n      <td>0.0</td>\n      <td>0.0</td>\n      <td>0.0</td>\n      <td>0.0</td>\n      <td>0.0</td>\n      <td>0.0</td>\n      <td>0.0</td>\n      <td>0.0</td>\n    </tr>\n    <tr>\n      <th>4</th>\n      <td>0.967136</td>\n      <td>1.000000</td>\n      <td>0.830986</td>\n      <td>0.586854</td>\n      <td>0.356808</td>\n      <td>0.248826</td>\n      <td>0.145540</td>\n      <td>0.089202</td>\n      <td>0.117371</td>\n      <td>0.150235</td>\n      <td>...</td>\n      <td>0.0</td>\n      <td>0.0</td>\n      <td>0.0</td>\n      <td>0.0</td>\n      <td>0.0</td>\n      <td>0.0</td>\n      <td>0.0</td>\n      <td>0.0</td>\n      <td>0.0</td>\n      <td>0.0</td>\n    </tr>\n  </tbody>\n</table>\n<p>5 rows × 188 columns</p>\n</div>"
     },
     "execution_count": 6,
     "metadata": {},
     "output_type": "execute_result"
    }
   ],
   "source": [
    "all_data.head()"
   ],
   "metadata": {
    "collapsed": false,
    "ExecuteTime": {
     "end_time": "2023-05-02T09:15:25.040651700Z",
     "start_time": "2023-05-02T09:15:25.000660Z"
    }
   }
  },
  {
   "cell_type": "code",
   "source": [
    "all_data['class'].value_counts()"
   ],
   "metadata": {
    "id": "29vCaKCNo2tO",
    "outputId": "cf113e7d-5083-43ef-a2dc-aee7fe734ed0",
    "trusted": true,
    "ExecuteTime": {
     "end_time": "2023-05-02T09:15:25.058651Z",
     "start_time": "2023-05-02T09:15:25.046647Z"
    }
   },
   "execution_count": 7,
   "outputs": [
    {
     "data": {
      "text/plain": "0.0    90589\n4.0     8039\n2.0     7236\n1.0     2779\n3.0      803\nName: class, dtype: int64"
     },
     "execution_count": 7,
     "metadata": {},
     "output_type": "execute_result"
    }
   ]
  },
  {
   "cell_type": "code",
   "source": [
    "plot_categorical_distribution_with_percentage(all_data, \"class\")"
   ],
   "metadata": {
    "_kg_hide-input": true,
    "id": "CvgGtV3Jo2tP",
    "outputId": "848f29bc-e513-405c-eb26-ed0045d68bf3",
    "trusted": true,
    "ExecuteTime": {
     "end_time": "2023-05-02T09:15:25.418648200Z",
     "start_time": "2023-05-02T09:15:25.058651Z"
    }
   },
   "execution_count": 8,
   "outputs": [
    {
     "data": {
      "text/plain": "<Figure size 1200x600 with 1 Axes>",
      "image/png": "[encoded data removed]"
     },
     "metadata": {},
     "output_type": "display_data"
    }
   ]
  },
  {
   "cell_type": "code",
   "execution_count": 9,
   "outputs": [],
   "source": [
    "train_final = all_data[all_data.index < train_df.shape[0]]\n",
    "test_final = all_data[all_data.index >= train_df.shape[0]]"
   ],
   "metadata": {
    "collapsed": false,
    "ExecuteTime": {
     "end_time": "2023-05-02T09:15:25.529643200Z",
     "start_time": "2023-05-02T09:15:25.420648800Z"
    }
   }
  },
  {
   "cell_type": "code",
   "execution_count": 10,
   "outputs": [
    {
     "data": {
      "text/plain": "          0         1         2         3         4         5         6  \\\n0  0.977941  0.926471  0.681373  0.245098  0.154412  0.191176  0.151961   \n1  0.960114  0.863248  0.461538  0.196581  0.094017  0.125356  0.099715   \n2  1.000000  0.659459  0.186486  0.070270  0.070270  0.059459  0.056757   \n3  0.925414  0.665746  0.541436  0.276243  0.196133  0.077348  0.071823   \n4  0.967136  1.000000  0.830986  0.586854  0.356808  0.248826  0.145540   \n\n          7         8         9  ...  178  179  180  181  182  183  184  185  \\\n0  0.085784  0.058824  0.049020  ...  0.0  0.0  0.0  0.0  0.0  0.0  0.0  0.0   \n1  0.088319  0.074074  0.082621  ...  0.0  0.0  0.0  0.0  0.0  0.0  0.0  0.0   \n2  0.043243  0.054054  0.045946  ...  0.0  0.0  0.0  0.0  0.0  0.0  0.0  0.0   \n3  0.060773  0.066298  0.058011  ...  0.0  0.0  0.0  0.0  0.0  0.0  0.0  0.0   \n4  0.089202  0.117371  0.150235  ...  0.0  0.0  0.0  0.0  0.0  0.0  0.0  0.0   \n\n   186  class  \n0  0.0    0.0  \n1  0.0    0.0  \n2  0.0    0.0  \n3  0.0    0.0  \n4  0.0    0.0  \n\n[5 rows x 188 columns]",
      "text/html": "<div>\n<style scoped>\n    .dataframe tbody tr th:only-of-type {\n        vertical-align: middle;\n    }\n\n    .dataframe tbody tr th {\n        vertical-align: top;\n    }\n\n    .dataframe thead th {\n        text-align: right;\n    }\n</style>\n<table border=\"1\" class=\"dataframe\">\n  <thead>\n    <tr style=\"text-align: right;\">\n      <th></th>\n      <th>0</th>\n      <th>1</th>\n      <th>2</th>\n      <th>3</th>\n      <th>4</th>\n      <th>5</th>\n      <th>6</th>\n      <th>7</th>\n      <th>8</th>\n      <th>9</th>\n      <th>...</th>\n      <th>178</th>\n      <th>179</th>\n      <th>180</th>\n      <th>181</th>\n      <th>182</th>\n      <th>183</th>\n      <th>184</th>\n      <th>185</th>\n      <th>186</th>\n      <th>class</th>\n    </tr>\n  </thead>\n  <tbody>\n    <tr>\n      <th>0</th>\n      <td>0.977941</td>\n      <td>0.926471</td>\n      <td>0.681373</td>\n      <td>0.245098</td>\n      <td>0.154412</td>\n      <td>0.191176</td>\n      <td>0.151961</td>\n      <td>0.085784</td>\n      <td>0.058824</td>\n      <td>0.049020</td>\n      <td>...</td>\n      <td>0.0</td>\n      <td>0.0</td>\n      <td>0.0</td>\n      <td>0.0</td>\n      <td>0.0</td>\n      <td>0.0</td>\n      <td>0.0</td>\n      <td>0.0</td>\n      <td>0.0</td>\n      <td>0.0</td>\n    </tr>\n    <tr>\n      <th>1</th>\n      <td>0.960114</td>\n      <td>0.863248</td>\n      <td>0.461538</td>\n      <td>0.196581</td>\n      <td>0.094017</td>\n      <td>0.125356</td>\n      <td>0.099715</td>\n      <td>0.088319</td>\n      <td>0.074074</td>\n      <td>0.082621</td>\n      <td>...</td>\n      <td>0.0</td>\n      <td>0.0</td>\n      <td>0.0</td>\n      <td>0.0</td>\n      <td>0.0</td>\n      <td>0.0</td>\n      <td>0.0</td>\n      <td>0.0</td>\n      <td>0.0</td>\n      <td>0.0</td>\n    </tr>\n    <tr>\n      <th>2</th>\n      <td>1.000000</td>\n      <td>0.659459</td>\n      <td>0.186486</td>\n      <td>0.070270</td>\n      <td>0.070270</td>\n      <td>0.059459</td>\n      <td>0.056757</td>\n      <td>0.043243</td>\n      <td>0.054054</td>\n      <td>0.045946</td>\n      <td>...</td>\n      <td>0.0</td>\n      <td>0.0</td>\n      <td>0.0</td>\n      <td>0.0</td>\n      <td>0.0</td>\n      <td>0.0</td>\n      <td>0.0</td>\n      <td>0.0</td>\n      <td>0.0</td>\n      <td>0.0</td>\n    </tr>\n    <tr>\n      <th>3</th>\n      <td>0.925414</td>\n      <td>0.665746</td>\n      <td>0.541436</td>\n      <td>0.276243</td>\n      <td>0.196133</td>\n      <td>0.077348</td>\n      <td>0.071823</td>\n      <td>0.060773</td>\n      <td>0.066298</td>\n      <td>0.058011</td>\n      <td>...</td>\n      <td>0.0</td>\n      <td>0.0</td>\n      <td>0.0</td>\n      <td>0.0</td>\n      <td>0.0</td>\n      <td>0.0</td>\n      <td>0.0</td>\n      <td>0.0</td>\n      <td>0.0</td>\n      <td>0.0</td>\n    </tr>\n    <tr>\n      <th>4</th>\n      <td>0.967136</td>\n      <td>1.000000</td>\n      <td>0.830986</td>\n      <td>0.586854</td>\n      <td>0.356808</td>\n      <td>0.248826</td>\n      <td>0.145540</td>\n      <td>0.089202</td>\n      <td>0.117371</td>\n      <td>0.150235</td>\n      <td>...</td>\n      <td>0.0</td>\n      <td>0.0</td>\n      <td>0.0</td>\n      <td>0.0</td>\n      <td>0.0</td>\n      <td>0.0</td>\n      <td>0.0</td>\n      <td>0.0</td>\n      <td>0.0</td>\n      <td>0.0</td>\n    </tr>\n  </tbody>\n</table>\n<p>5 rows × 188 columns</p>\n</div>"
     },
     "execution_count": 10,
     "metadata": {},
     "output_type": "execute_result"
    }
   ],
   "source": [
    "train_final.head()"
   ],
   "metadata": {
    "collapsed": false,
    "ExecuteTime": {
     "end_time": "2023-05-02T09:15:25.553677500Z",
     "start_time": "2023-05-02T09:15:25.512645700Z"
    }
   }
  },
  {
   "cell_type": "code",
   "execution_count": 11,
   "outputs": [
    {
     "data": {
      "text/plain": "              0         1         2         3         4         5         6  \\\n87554  1.000000  0.758264  0.111570  0.000000  0.080579  0.078512  0.066116   \n87555  0.908425  0.783883  0.531136  0.362637  0.366300  0.344322  0.333333   \n87556  0.730088  0.212389  0.000000  0.119469  0.101770  0.101770  0.110619   \n87557  1.000000  0.910417  0.681250  0.472917  0.229167  0.068750  0.000000   \n87558  0.570470  0.399329  0.238255  0.147651  0.000000  0.003356  0.040268   \n\n              7         8         9  ...  178  179  180  181  182  183  184  \\\n87554  0.049587  0.047521  0.035124  ...  0.0  0.0  0.0  0.0  0.0  0.0  0.0   \n87555  0.307692  0.296703  0.300366  ...  0.0  0.0  0.0  0.0  0.0  0.0  0.0   \n87556  0.123894  0.115044  0.132743  ...  0.0  0.0  0.0  0.0  0.0  0.0  0.0   \n87557  0.004167  0.014583  0.054167  ...  0.0  0.0  0.0  0.0  0.0  0.0  0.0   \n87558  0.080537  0.070470  0.090604  ...  0.0  0.0  0.0  0.0  0.0  0.0  0.0   \n\n       185  186  class  \n87554  0.0  0.0    0.0  \n87555  0.0  0.0    0.0  \n87556  0.0  0.0    0.0  \n87557  0.0  0.0    0.0  \n87558  0.0  0.0    0.0  \n\n[5 rows x 188 columns]",
      "text/html": "<div>\n<style scoped>\n    .dataframe tbody tr th:only-of-type {\n        vertical-align: middle;\n    }\n\n    .dataframe tbody tr th {\n        vertical-align: top;\n    }\n\n    .dataframe thead th {\n        text-align: right;\n    }\n</style>\n<table border=\"1\" class=\"dataframe\">\n  <thead>\n    <tr style=\"text-align: right;\">\n      <th></th>\n      <th>0</th>\n      <th>1</th>\n      <th>2</th>\n      <th>3</th>\n      <th>4</th>\n      <th>5</th>\n      <th>6</th>\n      <th>7</th>\n      <th>8</th>\n      <th>9</th>\n      <th>...</th>\n      <th>178</th>\n      <th>179</th>\n      <th>180</th>\n      <th>181</th>\n      <th>182</th>\n      <th>183</th>\n      <th>184</th>\n      <th>185</th>\n      <th>186</th>\n      <th>class</th>\n    </tr>\n  </thead>\n  <tbody>\n    <tr>\n      <th>87554</th>\n      <td>1.000000</td>\n      <td>0.758264</td>\n      <td>0.111570</td>\n      <td>0.000000</td>\n      <td>0.080579</td>\n      <td>0.078512</td>\n      <td>0.066116</td>\n      <td>0.049587</td>\n      <td>0.047521</td>\n      <td>0.035124</td>\n      <td>...</td>\n      <td>0.0</td>\n      <td>0.0</td>\n      <td>0.0</td>\n      <td>0.0</td>\n      <td>0.0</td>\n      <td>0.0</td>\n      <td>0.0</td>\n      <td>0.0</td>\n      <td>0.0</td>\n      <td>0.0</td>\n    </tr>\n    <tr>\n      <th>87555</th>\n      <td>0.908425</td>\n      <td>0.783883</td>\n      <td>0.531136</td>\n      <td>0.362637</td>\n      <td>0.366300</td>\n      <td>0.344322</td>\n      <td>0.333333</td>\n      <td>0.307692</td>\n      <td>0.296703</td>\n      <td>0.300366</td>\n      <td>...</td>\n      <td>0.0</td>\n      <td>0.0</td>\n      <td>0.0</td>\n      <td>0.0</td>\n      <td>0.0</td>\n      <td>0.0</td>\n      <td>0.0</td>\n      <td>0.0</td>\n      <td>0.0</td>\n      <td>0.0</td>\n    </tr>\n    <tr>\n      <th>87556</th>\n      <td>0.730088</td>\n      <td>0.212389</td>\n      <td>0.000000</td>\n      <td>0.119469</td>\n      <td>0.101770</td>\n      <td>0.101770</td>\n      <td>0.110619</td>\n      <td>0.123894</td>\n      <td>0.115044</td>\n      <td>0.132743</td>\n      <td>...</td>\n      <td>0.0</td>\n      <td>0.0</td>\n      <td>0.0</td>\n      <td>0.0</td>\n      <td>0.0</td>\n      <td>0.0</td>\n      <td>0.0</td>\n      <td>0.0</td>\n      <td>0.0</td>\n      <td>0.0</td>\n    </tr>\n    <tr>\n      <th>87557</th>\n      <td>1.000000</td>\n      <td>0.910417</td>\n      <td>0.681250</td>\n      <td>0.472917</td>\n      <td>0.229167</td>\n      <td>0.068750</td>\n      <td>0.000000</td>\n      <td>0.004167</td>\n      <td>0.014583</td>\n      <td>0.054167</td>\n      <td>...</td>\n      <td>0.0</td>\n      <td>0.0</td>\n      <td>0.0</td>\n      <td>0.0</td>\n      <td>0.0</td>\n      <td>0.0</td>\n      <td>0.0</td>\n      <td>0.0</td>\n      <td>0.0</td>\n      <td>0.0</td>\n    </tr>\n    <tr>\n      <th>87558</th>\n      <td>0.570470</td>\n      <td>0.399329</td>\n      <td>0.238255</td>\n      <td>0.147651</td>\n      <td>0.000000</td>\n      <td>0.003356</td>\n      <td>0.040268</td>\n      <td>0.080537</td>\n      <td>0.070470</td>\n      <td>0.090604</td>\n      <td>...</td>\n      <td>0.0</td>\n      <td>0.0</td>\n      <td>0.0</td>\n      <td>0.0</td>\n      <td>0.0</td>\n      <td>0.0</td>\n      <td>0.0</td>\n      <td>0.0</td>\n      <td>0.0</td>\n      <td>0.0</td>\n    </tr>\n  </tbody>\n</table>\n<p>5 rows × 188 columns</p>\n</div>"
     },
     "execution_count": 11,
     "metadata": {},
     "output_type": "execute_result"
    }
   ],
   "source": [
    "test_final.head()"
   ],
   "metadata": {
    "collapsed": false,
    "ExecuteTime": {
     "end_time": "2023-05-02T09:15:25.647674800Z",
     "start_time": "2023-05-02T09:15:25.546649200Z"
    }
   }
  },
  {
   "cell_type": "code",
   "execution_count": 12,
   "outputs": [
    {
     "data": {
      "text/plain": "<Figure size 1200x600 with 1 Axes>",
      "image/png": "[encoded data removed]"
     },
     "metadata": {},
     "output_type": "display_data"
    }
   ],
   "source": [
    "plot_categorical_distribution_with_percentage(train_final, \"class\")"
   ],
   "metadata": {
    "collapsed": false,
    "ExecuteTime": {
     "end_time": "2023-05-02T09:15:25.964679200Z",
     "start_time": "2023-05-02T09:15:25.590649600Z"
    }
   }
  },
  {
   "cell_type": "code",
   "execution_count": null,
   "outputs": [],
   "source": [
    "train_final.shape"
   ],
   "metadata": {
    "collapsed": false
   }
  },
  {
   "cell_type": "code",
   "execution_count": null,
   "outputs": [],
   "source": [
    "test_final.shape"
   ],
   "metadata": {
    "collapsed": false
   }
  },
  {
   "cell_type": "markdown",
   "source": [
    "# Models"
   ],
   "metadata": {}
  },
  {
   "cell_type": "code",
   "execution_count": null,
   "outputs": [],
   "source": [
    "class_names =  [\"Normal\", \"Artial Premature\", \"Premature ventricular contraction\", \"Fusion of ventricular and normal\", \"Fusion of paced and normal\"]\n",
    "number_of_features = 187"
   ],
   "metadata": {
    "collapsed": false
   }
  },
  {
   "cell_type": "code",
   "execution_count": null,
   "outputs": [],
   "source": [
    "def build_model():\n",
    "    model = tk.Sequential([\n",
    "        l.Conv1D(32, kernel_size=5, strides=2, activation=\"relu\", input_shape=(number_of_features, 1)),\n",
    "        l.BatchNormalization(),\n",
    "        l.Conv1D(64, kernel_size=5, strides=2, activation=\"relu\"),\n",
    "        l.BatchNormalization(),\n",
    "        l.Conv1D(128, kernel_size=3, strides=2, activation=\"relu\"),\n",
    "        l.BatchNormalization(),\n",
    "        l.LSTM(128, return_sequences=True),\n",
    "        l.LSTM(128),\n",
    "        l.Dense(len(class_names), activation=\"softmax\")\n",
    "    ])\n",
    "    optimizer = tk.optimizers.SGD(learning_rate=1e-2, clipnorm=1.)\n",
    "    model.compile(loss=\"categorical_crossentropy\",\n",
    "                  optimizer=optimizer,\n",
    "                  metrics=[\"accuracy\"])\n",
    "    return model\n"
   ],
   "metadata": {
    "collapsed": false
   }
  },
  {
   "cell_type": "markdown",
   "source": [
    "# Training stage"
   ],
   "metadata": {
    "collapsed": false
   }
  },
  {
   "cell_type": "code",
   "execution_count": null,
   "outputs": [],
   "source": [
    "EPOCHS = 5 if working_locally else 100"
   ],
   "metadata": {
    "collapsed": false
   }
  },
  {
   "cell_type": "code",
   "execution_count": null,
   "outputs": [],
   "source": [
    "from sklearn.model_selection import train_test_split\n",
    "\n",
    "\n",
    "\n",
    "X = train_final.iloc[:, :-1].values\n",
    "y = train_final.iloc[:, -1].values\n",
    "\n",
    "y = to_categorical(y, num_classes=len(class_names))\n",
    "\n",
    "X_train, X_valid, y_train, y_valid = train_test_split(X, y, test_size=0.2, shuffle=True, random_state=42)\n",
    "X_test = test_final.iloc[:, :-1].values\n",
    "y_test = test_final.iloc[:, -1].values\n",
    "y_test = to_categorical(y_test, num_classes=len(class_names))"
   ],
   "metadata": {
    "collapsed": false
   }
  },
  {
   "cell_type": "code",
   "execution_count": null,
   "outputs": [],
   "source": [
    "if working_locally:\n",
    "    X_train, y_train = sub_percentage_of(X_train, y_train, 0.05)\n",
    "    X_valid, y_valid = sub_percentage_of(X_valid, y_valid, 0.05)\n",
    "    X_test, y_test = sub_percentage_of(X_test, y_test, 0.05)\n",
    "\n",
    "print(X_train.shape, y_train.shape)\n",
    "print(X_test.shape, y_test.shape)"
   ],
   "metadata": {
    "collapsed": false
   }
  },
  {
   "cell_type": "code",
   "source": [
    "model = build_model()\n",
    "early_stopping = tk.callbacks.EarlyStopping(patience=10, restore_best_weights=True)\n",
    "history = model.fit(X_train, y_train,\n",
    "                    epochs=EPOCHS,\n",
    "                    validation_data=(X_valid, y_valid),\n",
    "                    callbacks=[early_stopping])"
   ],
   "metadata": {
    "id": "vbsXrltbo2tT",
    "trusted": true
   },
   "execution_count": null,
   "outputs": []
  },
  {
   "cell_type": "code",
   "execution_count": null,
   "outputs": [],
   "source": [
    "plot_accuracy_and_loss(history)"
   ],
   "metadata": {
    "collapsed": false
   }
  },
  {
   "cell_type": "code",
   "execution_count": null,
   "outputs": [],
   "source": [
    "model.evaluate(X_test, y_test)"
   ],
   "metadata": {
    "collapsed": false
   }
  },
  {
   "cell_type": "code",
   "execution_count": null,
   "outputs": [],
   "source": [
    "test_labels = y_test.argmax(axis=1)\n",
    "prediction_labels = model.predict(X_test).argmax(axis=1)\n",
    "cm = confusion_matrix(test_labels, prediction_labels)\n",
    "cm"
   ],
   "metadata": {
    "collapsed": false
   }
  },
  {
   "cell_type": "code",
   "execution_count": null,
   "outputs": [],
   "source": [
    "print(classification_report(test_labels, prediction_labels, target_names=class_names))"
   ],
   "metadata": {
    "collapsed": false
   }
  },
  {
   "cell_type": "code",
   "execution_count": null,
   "outputs": [],
   "source": [
    "disp = ConfusionMatrixDisplay(confusion_matrix=cm, display_labels=class_names)\n",
    "disp.plot();"
   ],
   "metadata": {
    "collapsed": false
   }
  },
  {
   "cell_type": "code",
   "execution_count": null,
   "outputs": [],
   "source": [
    "model.save(\"model.h5\")"
   ],
   "metadata": {
    "collapsed": false
   }
  },
  {
   "cell_type": "code",
   "execution_count": null,
   "outputs": [],
   "source": [
    "loaded_model = tk.models.load_model(\"model.h5\")\n",
    "loaded_model.evaluate(X_test, y_test)"
   ],
   "metadata": {
    "collapsed": false
   }
  },
  {
   "cell_type": "code",
   "execution_count": null,
   "outputs": [],
   "source": [
    "loaded_model.predict(X_test[:5])"
   ],
   "metadata": {
    "collapsed": false
   }
  },
  {
   "cell_type": "markdown",
   "source": [
    "### retraining using a balanced dataset"
   ],
   "metadata": {
    "collapsed": false
   }
  },
  {
   "cell_type": "code",
   "execution_count": null,
   "outputs": [],
   "source": [
    "from sklearn.utils import resample\n",
    "\n",
    "\n",
    "def get_balanced_data():\n",
    "    class0_df = train_df[train_df[187] == 0]\n",
    "    class1_df = train_df[train_df[187] == 1]\n",
    "    class2_df = train_df[train_df[187] == 2]\n",
    "    class3_df = train_df[train_df[187] == 3]\n",
    "    class4_df = train_df[train_df[187] == 4]\n",
    "\n",
    "    class1_up_sampled = resample(class1_df, n_samples=20000, replace=True, random_state=1)\n",
    "    class2_up_sampled = resample(class2_df, n_samples=20000, replace=True, random_state=1)\n",
    "    class3_up_sampled = resample(class3_df, n_samples=20000, replace=True, random_state=1)\n",
    "    class4_up_sampled = resample(class4_df, n_samples=20000, replace=True, random_state=1)\n",
    "\n",
    "    class0_down_sampled = class0_df.sample(n=20000, random_state=0)\n",
    "\n",
    "    return pd.concat([class0_down_sampled,\n",
    "                      class1_up_sampled,\n",
    "                      class2_up_sampled,\n",
    "                      class3_up_sampled,\n",
    "                      class4_up_sampled])\n"
   ],
   "metadata": {
    "collapsed": false
   }
  },
  {
   "cell_type": "code",
   "execution_count": null,
   "outputs": [],
   "source": [
    "balanced_train_df = get_balanced_data()"
   ],
   "metadata": {
    "collapsed": false
   }
  },
  {
   "cell_type": "code",
   "execution_count": null,
   "outputs": [],
   "source": [
    "X = balanced_train_df.iloc[:, :-1].values\n",
    "y = balanced_train_df.iloc[:, -1].values\n",
    "\n",
    "y = to_categorical(y, num_classes=len(class_names))\n",
    "\n",
    "X_train, X_valid, y_train, y_valid = train_test_split(X, y, test_size=0.2, shuffle=True, random_state=42)"
   ],
   "metadata": {
    "collapsed": false
   }
  },
  {
   "cell_type": "code",
   "execution_count": null,
   "outputs": [],
   "source": [
    "if working_locally:\n",
    "    X_train, y_train = sub_percentage_of(X_train, y_train, 0.05)\n",
    "    X_valid, y_valid = sub_percentage_of(X_valid, y_valid, 0.05)\n",
    "\n",
    "print(X_train.shape, y_train.shape)\n",
    "print(X_valid.shape, y_valid.shape)"
   ],
   "metadata": {
    "collapsed": false
   }
  },
  {
   "cell_type": "code",
   "execution_count": null,
   "outputs": [],
   "source": [
    "model = build_model()\n",
    "early_stopping = tk.callbacks.EarlyStopping(patience=10, restore_best_weights=True)\n",
    "history = model.fit(X_train, y_train,\n",
    "                    epochs=EPOCHS,\n",
    "                    validation_data=(X_valid, y_valid),\n",
    "                    callbacks=[early_stopping])"
   ],
   "metadata": {
    "collapsed": false
   }
  },
  {
   "cell_type": "code",
   "execution_count": null,
   "outputs": [],
   "source": [
    "plot_accuracy_and_loss(history)"
   ],
   "metadata": {
    "collapsed": false
   }
  },
  {
   "cell_type": "code",
   "execution_count": null,
   "outputs": [],
   "source": [
    "model.evaluate(X_test, y_test)"
   ],
   "metadata": {
    "collapsed": false
   }
  },
  {
   "cell_type": "code",
   "execution_count": null,
   "outputs": [],
   "source": [
    "prediction_labels = model.predict(X_test).argmax(axis=1)\n",
    "cm = confusion_matrix(test_labels, prediction_labels)\n",
    "cm"
   ],
   "metadata": {
    "collapsed": false
   }
  },
  {
   "cell_type": "code",
   "execution_count": null,
   "outputs": [],
   "source": [
    "print(classification_report(test_labels, prediction_labels, target_names=class_names))"
   ],
   "metadata": {
    "collapsed": false
   }
  },
  {
   "cell_type": "code",
   "execution_count": null,
   "outputs": [],
   "source": [
    "disp = ConfusionMatrixDisplay(confusion_matrix=cm, display_labels=class_names)\n",
    "disp.plot();"
   ],
   "metadata": {
    "collapsed": false
   }
  },
  {
   "cell_type": "code",
   "execution_count": null,
   "outputs": [],
   "source": [
    "model.save('model_trained_on_balanced_data.h5')"
   ],
   "metadata": {
    "collapsed": false
   }
  }
 ]
}
