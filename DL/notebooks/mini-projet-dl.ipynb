{
 "metadata": {
  "kernelspec": {
   "language": "python",
   "display_name": "Python 3",
   "name": "python3"
  },
  "language_info": {
   "name": "python",
   "version": "3.7.12",
   "mimetype": "text/x-python",
   "codemirror_mode": {
    "name": "ipython",
    "version": 3
   },
   "pygments_lexer": "ipython3",
   "nbconvert_exporter": "python",
   "file_extension": ".py"
  }
 },
 "nbformat_minor": 4,
 "nbformat": 4,
 "cells": [
  {
   "cell_type": "code",
   "source": [
    "# This Python 3 environment comes with many helpful analytics libraries installed\n",
    "# It is defined by the kaggle/python Docker image: https://github.com/kaggle/docker-python\n",
    "# For example, here's several helpful packages to load\n",
    "\n",
    "import numpy as np # linear algebra\n",
    "import pandas as pd # data processing, CSV file I/O (e.g. pd.read_csv)\n",
    "\n",
    "# Input data files are available in the read-only \"../input/\" directory\n",
    "# For example, running this (by clicking run or pressing Shift+Enter) will list all files under the input directory\n",
    "\n",
    "import os\n",
    "for dirname, _, filenames in os.walk('/kaggle/input'):\n",
    "    for filename in filenames:\n",
    "        print(os.path.join(dirname, filename))\n",
    "\n",
    "# You can write up to 20GB to the current directory (/kaggle/working/) that gets preserved as output when you create a version using \"Save & Run All\" \n",
    "# You can also write temporary files to /kaggle/temp/, but they won't be saved outside of the current session"
   ],
   "metadata": {
    "_uuid": "8f2839f25d086af736a60e9eeb907d3b93b6e0e5",
    "_cell_guid": "b1076dfc-b9ad-4769-8c92-a6c4dae69d19",
    "execution": {
     "iopub.status.busy": "2023-03-22T15:14:59.790777Z",
     "iopub.execute_input": "2023-03-22T15:14:59.791869Z",
     "iopub.status.idle": "2023-03-22T15:14:59.884232Z",
     "shell.execute_reply.started": "2023-03-22T15:14:59.791806Z",
     "shell.execute_reply": "2023-03-22T15:14:59.882873Z"
    },
    "trusted": true
   },
   "execution_count": 1,
   "outputs": [
    {
     "name": "stdout",
     "text": "/kaggle/input/kdd-cup-1999-data/kddcup.data.gz\n/kaggle/input/kdd-cup-1999-data/training_attack_types\n/kaggle/input/kdd-cup-1999-data/kddcup.data.corrected\n/kaggle/input/kdd-cup-1999-data/kddcup.newtestdata_10_percent_unlabeled.gz\n/kaggle/input/kdd-cup-1999-data/kddcup.testdata.unlabeled.gz\n/kaggle/input/kdd-cup-1999-data/corrected.gz\n/kaggle/input/kdd-cup-1999-data/kddcup.data_10_percent.gz\n/kaggle/input/kdd-cup-1999-data/kddcup.names\n/kaggle/input/kdd-cup-1999-data/kddcup.data_10_percent_corrected\n/kaggle/input/kdd-cup-1999-data/typo-correction.txt\n/kaggle/input/kdd-cup-1999-data/kddcup.testdata.unlabeled_10_percent.gz\n/kaggle/input/kdd-cup-1999-data/kddcup.data/kddcup.data\n/kaggle/input/kdd-cup-1999-data/kddcup.testdata.unlabeled/kddcup.testdata.unlabeled\n/kaggle/input/kdd-cup-1999-data/corrected/corrected\n/kaggle/input/kdd-cup-1999-data/kddcup.testdata.unlabeled_10_percent/kddcup.testdata.unlabeled_10_percent\n/kaggle/input/kdd-cup-1999-data/kddcup.newtestdata_10_percent_unlabeled/kddcup.newtestdata_10_percent_unlabeled\n/kaggle/input/kdd-cup-1999-data/kddcup.data_10_percent/kddcup.data_10_percent\n",
     "output_type": "stream"
    }
   ]
  },
  {
   "cell_type": "code",
   "source": [
    "%matplotlib inline\n",
    "import numpy as np\n",
    "import pandas as pd\n",
    "import seaborn as sns\n",
    "import matplotlib.pyplot as plt\n",
    "\n",
    "from sklearn.metrics import classification_report, confusion_matrix\n",
    "import tensorflow as tf\n",
    "import numpy as np\n",
    "\n",
    "\n",
    "from tensorflow.keras import layers\n",
    "import time\n",
    "\n",
    "\n",
    "from sklearn.model_selection import train_test_split\n",
    "from sklearn.preprocessing import LabelEncoder"
   ],
   "metadata": {
    "execution": {
     "iopub.status.busy": "2023-03-22T15:14:59.887093Z",
     "iopub.execute_input": "2023-03-22T15:14:59.887601Z",
     "iopub.status.idle": "2023-03-22T15:15:11.293310Z",
     "shell.execute_reply.started": "2023-03-22T15:14:59.887549Z",
     "shell.execute_reply": "2023-03-22T15:15:11.291878Z"
    },
    "trusted": true
   },
   "execution_count": 2,
   "outputs": []
  },
  {
   "cell_type": "markdown",
   "source": [
    "## **Features**"
   ],
   "metadata": {}
  },
  {
   "cell_type": "code",
   "source": [
    "with open(\"../input/kdd-cup-1999-data/kddcup.names\", 'r') as f:\n",
    "    print(f.read())"
   ],
   "metadata": {
    "execution": {
     "iopub.status.busy": "2023-03-22T15:15:11.294786Z",
     "iopub.execute_input": "2023-03-22T15:15:11.295554Z",
     "iopub.status.idle": "2023-03-22T15:15:11.316367Z",
     "shell.execute_reply.started": "2023-03-22T15:15:11.295512Z",
     "shell.execute_reply": "2023-03-22T15:15:11.315241Z"
    },
    "trusted": true
   },
   "execution_count": 3,
   "outputs": [
    {
     "name": "stdout",
     "text": "back,buffer_overflow,ftp_write,guess_passwd,imap,ipsweep,land,loadmodule,multihop,neptune,nmap,normal,perl,phf,pod,portsweep,rootkit,satan,smurf,spy,teardrop,warezclient,warezmaster.\nduration: continuous.\nprotocol_type: symbolic.\nservice: symbolic.\nflag: symbolic.\nsrc_bytes: continuous.\ndst_bytes: continuous.\nland: symbolic.\nwrong_fragment: continuous.\nurgent: continuous.\nhot: continuous.\nnum_failed_logins: continuous.\nlogged_in: symbolic.\nnum_compromised: continuous.\nroot_shell: continuous.\nsu_attempted: continuous.\nnum_root: continuous.\nnum_file_creations: continuous.\nnum_shells: continuous.\nnum_access_files: continuous.\nnum_outbound_cmds: continuous.\nis_host_login: symbolic.\nis_guest_login: symbolic.\ncount: continuous.\nsrv_count: continuous.\nserror_rate: continuous.\nsrv_serror_rate: continuous.\nrerror_rate: continuous.\nsrv_rerror_rate: continuous.\nsame_srv_rate: continuous.\ndiff_srv_rate: continuous.\nsrv_diff_host_rate: continuous.\ndst_host_count: continuous.\ndst_host_srv_count: continuous.\ndst_host_same_srv_rate: continuous.\ndst_host_diff_srv_rate: continuous.\ndst_host_same_src_port_rate: continuous.\ndst_host_srv_diff_host_rate: continuous.\ndst_host_serror_rate: continuous.\ndst_host_srv_serror_rate: continuous.\ndst_host_rerror_rate: continuous.\ndst_host_srv_rerror_rate: continuous.\n\n",
     "output_type": "stream"
    }
   ]
  },
  {
   "cell_type": "code",
   "source": [
    "cols =\"\"\"duration,protocol_type,service,flag,src_bytes,dst_bytes,land,wrong_fragment,urgent,hot,num_failed_logins, \n",
    "logged_in,num_compromised,root_shell,su_attempted,num_root,num_file_creations,num_shells,num_access_files,num_outbound_cmds,\n",
    "is_host_login,is_guest_login,count,srv_count,serror_rate,srv_serror_rate,rerror_rate,srv_rerror_rate,same_srv_rate,diff_srv_rate,\n",
    "srv_diff_host_rate,dst_host_count,dst_host_srv_count,dst_host_same_srv_rate,dst_host_diff_srv_rate,dst_host_same_src_port_rate,\n",
    "dst_host_srv_diff_host_rate,dst_host_serror_rate,dst_host_srv_serror_rate,dst_host_rerror_rate,dst_host_srv_rerror_rate\"\"\"\n"
   ],
   "metadata": {
    "execution": {
     "iopub.status.busy": "2023-03-22T15:15:11.319077Z",
     "iopub.execute_input": "2023-03-22T15:15:11.319755Z",
     "iopub.status.idle": "2023-03-22T15:15:11.324790Z",
     "shell.execute_reply.started": "2023-03-22T15:15:11.319714Z",
     "shell.execute_reply": "2023-03-22T15:15:11.323557Z"
    },
    "trusted": true
   },
   "execution_count": 4,
   "outputs": []
  },
  {
   "cell_type": "code",
   "source": [
    "columns =[]\n",
    "for c in cols.split(','):\n",
    "    if(c.strip()):\n",
    "       columns.append(c.strip())\n",
    "  \n",
    "columns.append('target')"
   ],
   "metadata": {
    "execution": {
     "iopub.status.busy": "2023-03-22T15:15:11.326287Z",
     "iopub.execute_input": "2023-03-22T15:15:11.326911Z",
     "iopub.status.idle": "2023-03-22T15:15:11.340415Z",
     "shell.execute_reply.started": "2023-03-22T15:15:11.326876Z",
     "shell.execute_reply": "2023-03-22T15:15:11.338964Z"
    },
    "trusted": true
   },
   "execution_count": 5,
   "outputs": []
  },
  {
   "cell_type": "markdown",
   "source": [
    "## Targets"
   ],
   "metadata": {}
  },
  {
   "cell_type": "code",
   "source": [
    "# Read the 'training_attack_types' file\n",
    "with open(\"../input/kdd-cup-1999-data/training_attack_types\", 'r') as f:\n",
    "    print(f.read())"
   ],
   "metadata": {
    "execution": {
     "iopub.status.busy": "2023-03-22T15:15:11.341994Z",
     "iopub.execute_input": "2023-03-22T15:15:11.342765Z",
     "iopub.status.idle": "2023-03-22T15:15:11.356558Z",
     "shell.execute_reply.started": "2023-03-22T15:15:11.342718Z",
     "shell.execute_reply": "2023-03-22T15:15:11.355092Z"
    },
    "trusted": true
   },
   "execution_count": 6,
   "outputs": [
    {
     "name": "stdout",
     "text": "back dos\nbuffer_overflow u2r\nftp_write r2l\nguess_passwd r2l\nimap r2l\nipsweep probe\nland dos\nloadmodule u2r\nmultihop r2l\nneptune dos\nnmap probe\nperl u2r\nphf r2l\npod dos\nportsweep probe\nrootkit u2r\nsatan probe\nsmurf dos\nspy r2l\nteardrop dos\nwarezclient r2l\nwarezmaster r2l\n\n\n",
     "output_type": "stream"
    }
   ]
  },
  {
   "cell_type": "code",
   "source": [
    "# Create dictionary of training_attack_types \n",
    "attacks_types = {\n",
    "    'normal': 'normal',\n",
    "    'back': 'dos',\n",
    "    'buffer_overflow': 'u2r',\n",
    "    'ftp_write': 'r2l',\n",
    "    'guess_passwd': 'r2l',\n",
    "    'imap': 'r2l',\n",
    "    'ipsweep': 'probe',\n",
    "    'land': 'dos',\n",
    "    'loadmodule': 'u2r',\n",
    "    'multihop': 'r2l',\n",
    "    'neptune': 'dos',\n",
    "    'nmap': 'probe',\n",
    "    'perl': 'u2r',\n",
    "    'phf': 'r2l',\n",
    "    'pod': 'dos',\n",
    "    'portsweep': 'probe',\n",
    "    'rootkit': 'u2r',\n",
    "    'satan': 'probe',\n",
    "    'smurf': 'dos',\n",
    "    'spy': 'r2l',\n",
    "    'teardrop': 'dos',\n",
    "    'warezclient': 'r2l',\n",
    "    'warezmaster': 'r2l',\n",
    "}"
   ],
   "metadata": {
    "execution": {
     "iopub.status.busy": "2023-03-22T15:15:11.357826Z",
     "iopub.execute_input": "2023-03-22T15:15:11.358200Z",
     "iopub.status.idle": "2023-03-22T15:15:11.369021Z",
     "shell.execute_reply.started": "2023-03-22T15:15:11.358162Z",
     "shell.execute_reply": "2023-03-22T15:15:11.367722Z"
    },
    "trusted": true
   },
   "execution_count": 7,
   "outputs": []
  },
  {
   "cell_type": "code",
   "source": [
    "# Read in the full KDD 1999 dataset (10% subset also available)\n",
    "path = \"../input/kdd-cup-1999-data/kddcup.data_10_percent.gz\"\n",
    "kdd_df = pd.read_csv(path, names = columns)"
   ],
   "metadata": {
    "execution": {
     "iopub.status.busy": "2023-03-22T15:15:11.370399Z",
     "iopub.execute_input": "2023-03-22T15:15:11.371434Z",
     "iopub.status.idle": "2023-03-22T15:15:13.926193Z",
     "shell.execute_reply.started": "2023-03-22T15:15:11.371387Z",
     "shell.execute_reply": "2023-03-22T15:15:13.924702Z"
    },
    "trusted": true
   },
   "execution_count": 8,
   "outputs": []
  },
  {
   "cell_type": "code",
   "source": [
    "# Add Attack Type column to DataFrame\n",
    "kdd_df['Attack_Type'] = kdd_df.target.apply(lambda r:attacks_types[r[:-1]])\n",
    "kdd_df.head(200)"
   ],
   "metadata": {
    "execution": {
     "iopub.status.busy": "2023-03-22T15:15:13.928064Z",
     "iopub.execute_input": "2023-03-22T15:15:13.928885Z",
     "iopub.status.idle": "2023-03-22T15:15:14.136992Z",
     "shell.execute_reply.started": "2023-03-22T15:15:13.928833Z",
     "shell.execute_reply": "2023-03-22T15:15:14.135811Z"
    },
    "trusted": true
   },
   "execution_count": 9,
   "outputs": [
    {
     "execution_count": 9,
     "output_type": "execute_result",
     "data": {
      "text/plain": "     duration protocol_type service flag  src_bytes  dst_bytes  land  \\\n0           0           tcp    http   SF        181       5450     0   \n1           0           tcp    http   SF        239        486     0   \n2           0           tcp    http   SF        235       1337     0   \n3           0           tcp    http   SF        219       1337     0   \n4           0           tcp    http   SF        217       2032     0   \n..        ...           ...     ...  ...        ...        ...   ...   \n195         0           tcp    http   SF        232       1721     0   \n196         0           tcp    http   SF        246       1718     0   \n197         0           tcp    http   SF        218       1484     0   \n198         0           tcp    http   SF        222       1651     0   \n199         0           tcp    http   SF        215       1108     0   \n\n     wrong_fragment  urgent  hot  ...  dst_host_same_srv_rate  \\\n0                 0       0    0  ...                     1.0   \n1                 0       0    0  ...                     1.0   \n2                 0       0    0  ...                     1.0   \n3                 0       0    0  ...                     1.0   \n4                 0       0    0  ...                     1.0   \n..              ...     ...  ...  ...                     ...   \n195               0       0    0  ...                     1.0   \n196               0       0    0  ...                     1.0   \n197               0       0    0  ...                     1.0   \n198               0       0    0  ...                     1.0   \n199               0       0    0  ...                     1.0   \n\n     dst_host_diff_srv_rate  dst_host_same_src_port_rate  \\\n0                       0.0                         0.11   \n1                       0.0                         0.05   \n2                       0.0                         0.03   \n3                       0.0                         0.03   \n4                       0.0                         0.02   \n..                      ...                          ...   \n195                     0.0                         0.00   \n196                     0.0                         0.00   \n197                     0.0                         0.00   \n198                     0.0                         0.00   \n199                     0.0                         0.00   \n\n     dst_host_srv_diff_host_rate  dst_host_serror_rate  \\\n0                            0.0                   0.0   \n1                            0.0                   0.0   \n2                            0.0                   0.0   \n3                            0.0                   0.0   \n4                            0.0                   0.0   \n..                           ...                   ...   \n195                          0.0                   0.0   \n196                          0.0                   0.0   \n197                          0.0                   0.0   \n198                          0.0                   0.0   \n199                          0.0                   0.0   \n\n     dst_host_srv_serror_rate  dst_host_rerror_rate  dst_host_srv_rerror_rate  \\\n0                         0.0                   0.0                       0.0   \n1                         0.0                   0.0                       0.0   \n2                         0.0                   0.0                       0.0   \n3                         0.0                   0.0                       0.0   \n4                         0.0                   0.0                       0.0   \n..                        ...                   ...                       ...   \n195                       0.0                   0.0                       0.0   \n196                       0.0                   0.0                       0.0   \n197                       0.0                   0.0                       0.0   \n198                       0.0                   0.0                       0.0   \n199                       0.0                   0.0                       0.0   \n\n      target  Attack_Type  \n0    normal.       normal  \n1    normal.       normal  \n2    normal.       normal  \n3    normal.       normal  \n4    normal.       normal  \n..       ...          ...  \n195  normal.       normal  \n196  normal.       normal  \n197  normal.       normal  \n198  normal.       normal  \n199  normal.       normal  \n\n[200 rows x 43 columns]",
      "text/html": "<div>\n<style scoped>\n    .dataframe tbody tr th:only-of-type {\n        vertical-align: middle;\n    }\n\n    .dataframe tbody tr th {\n        vertical-align: top;\n    }\n\n    .dataframe thead th {\n        text-align: right;\n    }\n</style>\n<table border=\"1\" class=\"dataframe\">\n  <thead>\n    <tr style=\"text-align: right;\">\n      <th></th>\n      <th>duration</th>\n      <th>protocol_type</th>\n      <th>service</th>\n      <th>flag</th>\n      <th>src_bytes</th>\n      <th>dst_bytes</th>\n      <th>land</th>\n      <th>wrong_fragment</th>\n      <th>urgent</th>\n      <th>hot</th>\n      <th>...</th>\n      <th>dst_host_same_srv_rate</th>\n      <th>dst_host_diff_srv_rate</th>\n      <th>dst_host_same_src_port_rate</th>\n      <th>dst_host_srv_diff_host_rate</th>\n      <th>dst_host_serror_rate</th>\n      <th>dst_host_srv_serror_rate</th>\n      <th>dst_host_rerror_rate</th>\n      <th>dst_host_srv_rerror_rate</th>\n      <th>target</th>\n      <th>Attack_Type</th>\n    </tr>\n  </thead>\n  <tbody>\n    <tr>\n      <th>0</th>\n      <td>0</td>\n      <td>tcp</td>\n      <td>http</td>\n      <td>SF</td>\n      <td>181</td>\n      <td>5450</td>\n      <td>0</td>\n      <td>0</td>\n      <td>0</td>\n      <td>0</td>\n      <td>...</td>\n      <td>1.0</td>\n      <td>0.0</td>\n      <td>0.11</td>\n      <td>0.0</td>\n      <td>0.0</td>\n      <td>0.0</td>\n      <td>0.0</td>\n      <td>0.0</td>\n      <td>normal.</td>\n      <td>normal</td>\n    </tr>\n    <tr>\n      <th>1</th>\n      <td>0</td>\n      <td>tcp</td>\n      <td>http</td>\n      <td>SF</td>\n      <td>239</td>\n      <td>486</td>\n      <td>0</td>\n      <td>0</td>\n      <td>0</td>\n      <td>0</td>\n      <td>...</td>\n      <td>1.0</td>\n      <td>0.0</td>\n      <td>0.05</td>\n      <td>0.0</td>\n      <td>0.0</td>\n      <td>0.0</td>\n      <td>0.0</td>\n      <td>0.0</td>\n      <td>normal.</td>\n      <td>normal</td>\n    </tr>\n    <tr>\n      <th>2</th>\n      <td>0</td>\n      <td>tcp</td>\n      <td>http</td>\n      <td>SF</td>\n      <td>235</td>\n      <td>1337</td>\n      <td>0</td>\n      <td>0</td>\n      <td>0</td>\n      <td>0</td>\n      <td>...</td>\n      <td>1.0</td>\n      <td>0.0</td>\n      <td>0.03</td>\n      <td>0.0</td>\n      <td>0.0</td>\n      <td>0.0</td>\n      <td>0.0</td>\n      <td>0.0</td>\n      <td>normal.</td>\n      <td>normal</td>\n    </tr>\n    <tr>\n      <th>3</th>\n      <td>0</td>\n      <td>tcp</td>\n      <td>http</td>\n      <td>SF</td>\n      <td>219</td>\n      <td>1337</td>\n      <td>0</td>\n      <td>0</td>\n      <td>0</td>\n      <td>0</td>\n      <td>...</td>\n      <td>1.0</td>\n      <td>0.0</td>\n      <td>0.03</td>\n      <td>0.0</td>\n      <td>0.0</td>\n      <td>0.0</td>\n      <td>0.0</td>\n      <td>0.0</td>\n      <td>normal.</td>\n      <td>normal</td>\n    </tr>\n    <tr>\n      <th>4</th>\n      <td>0</td>\n      <td>tcp</td>\n      <td>http</td>\n      <td>SF</td>\n      <td>217</td>\n      <td>2032</td>\n      <td>0</td>\n      <td>0</td>\n      <td>0</td>\n      <td>0</td>\n      <td>...</td>\n      <td>1.0</td>\n      <td>0.0</td>\n      <td>0.02</td>\n      <td>0.0</td>\n      <td>0.0</td>\n      <td>0.0</td>\n      <td>0.0</td>\n      <td>0.0</td>\n      <td>normal.</td>\n      <td>normal</td>\n    </tr>\n    <tr>\n      <th>...</th>\n      <td>...</td>\n      <td>...</td>\n      <td>...</td>\n      <td>...</td>\n      <td>...</td>\n      <td>...</td>\n      <td>...</td>\n      <td>...</td>\n      <td>...</td>\n      <td>...</td>\n      <td>...</td>\n      <td>...</td>\n      <td>...</td>\n      <td>...</td>\n      <td>...</td>\n      <td>...</td>\n      <td>...</td>\n      <td>...</td>\n      <td>...</td>\n      <td>...</td>\n      <td>...</td>\n    </tr>\n    <tr>\n      <th>195</th>\n      <td>0</td>\n      <td>tcp</td>\n      <td>http</td>\n      <td>SF</td>\n      <td>232</td>\n      <td>1721</td>\n      <td>0</td>\n      <td>0</td>\n      <td>0</td>\n      <td>0</td>\n      <td>...</td>\n      <td>1.0</td>\n      <td>0.0</td>\n      <td>0.00</td>\n      <td>0.0</td>\n      <td>0.0</td>\n      <td>0.0</td>\n      <td>0.0</td>\n      <td>0.0</td>\n      <td>normal.</td>\n      <td>normal</td>\n    </tr>\n    <tr>\n      <th>196</th>\n      <td>0</td>\n      <td>tcp</td>\n      <td>http</td>\n      <td>SF</td>\n      <td>246</td>\n      <td>1718</td>\n      <td>0</td>\n      <td>0</td>\n      <td>0</td>\n      <td>0</td>\n      <td>...</td>\n      <td>1.0</td>\n      <td>0.0</td>\n      <td>0.00</td>\n      <td>0.0</td>\n      <td>0.0</td>\n      <td>0.0</td>\n      <td>0.0</td>\n      <td>0.0</td>\n      <td>normal.</td>\n      <td>normal</td>\n    </tr>\n    <tr>\n      <th>197</th>\n      <td>0</td>\n      <td>tcp</td>\n      <td>http</td>\n      <td>SF</td>\n      <td>218</td>\n      <td>1484</td>\n      <td>0</td>\n      <td>0</td>\n      <td>0</td>\n      <td>0</td>\n      <td>...</td>\n      <td>1.0</td>\n      <td>0.0</td>\n      <td>0.00</td>\n      <td>0.0</td>\n      <td>0.0</td>\n      <td>0.0</td>\n      <td>0.0</td>\n      <td>0.0</td>\n      <td>normal.</td>\n      <td>normal</td>\n    </tr>\n    <tr>\n      <th>198</th>\n      <td>0</td>\n      <td>tcp</td>\n      <td>http</td>\n      <td>SF</td>\n      <td>222</td>\n      <td>1651</td>\n      <td>0</td>\n      <td>0</td>\n      <td>0</td>\n      <td>0</td>\n      <td>...</td>\n      <td>1.0</td>\n      <td>0.0</td>\n      <td>0.00</td>\n      <td>0.0</td>\n      <td>0.0</td>\n      <td>0.0</td>\n      <td>0.0</td>\n      <td>0.0</td>\n      <td>normal.</td>\n      <td>normal</td>\n    </tr>\n    <tr>\n      <th>199</th>\n      <td>0</td>\n      <td>tcp</td>\n      <td>http</td>\n      <td>SF</td>\n      <td>215</td>\n      <td>1108</td>\n      <td>0</td>\n      <td>0</td>\n      <td>0</td>\n      <td>0</td>\n      <td>...</td>\n      <td>1.0</td>\n      <td>0.0</td>\n      <td>0.00</td>\n      <td>0.0</td>\n      <td>0.0</td>\n      <td>0.0</td>\n      <td>0.0</td>\n      <td>0.0</td>\n      <td>normal.</td>\n      <td>normal</td>\n    </tr>\n  </tbody>\n</table>\n<p>200 rows × 43 columns</p>\n</div>"
     },
     "metadata": {}
    }
   ]
  },
  {
   "cell_type": "code",
   "source": [
    "non_numeric_features = list(kdd_df.select_dtypes(exclude=['number']).columns)"
   ],
   "metadata": {
    "execution": {
     "iopub.status.busy": "2023-03-22T15:15:14.141081Z",
     "iopub.execute_input": "2023-03-22T15:15:14.141516Z",
     "iopub.status.idle": "2023-03-22T15:15:14.210461Z",
     "shell.execute_reply.started": "2023-03-22T15:15:14.141452Z",
     "shell.execute_reply": "2023-03-22T15:15:14.208932Z"
    },
    "trusted": true
   },
   "execution_count": 10,
   "outputs": []
  },
  {
   "cell_type": "code",
   "source": [
    "numeric_features = list(kdd_df.select_dtypes(include=['number']).columns)"
   ],
   "metadata": {
    "execution": {
     "iopub.status.busy": "2023-03-22T15:15:14.212201Z",
     "iopub.execute_input": "2023-03-22T15:15:14.212753Z",
     "iopub.status.idle": "2023-03-22T15:15:14.275370Z",
     "shell.execute_reply.started": "2023-03-22T15:15:14.212693Z",
     "shell.execute_reply": "2023-03-22T15:15:14.273829Z"
    },
    "trusted": true
   },
   "execution_count": 11,
   "outputs": []
  },
  {
   "cell_type": "code",
   "source": [
    "numeric_features"
   ],
   "metadata": {
    "execution": {
     "iopub.status.busy": "2023-03-22T15:15:14.276906Z",
     "iopub.execute_input": "2023-03-22T15:15:14.277406Z",
     "iopub.status.idle": "2023-03-22T15:15:14.290187Z",
     "shell.execute_reply.started": "2023-03-22T15:15:14.277366Z",
     "shell.execute_reply": "2023-03-22T15:15:14.288576Z"
    },
    "trusted": true
   },
   "execution_count": 12,
   "outputs": [
    {
     "execution_count": 12,
     "output_type": "execute_result",
     "data": {
      "text/plain": "['duration',\n 'src_bytes',\n 'dst_bytes',\n 'land',\n 'wrong_fragment',\n 'urgent',\n 'hot',\n 'num_failed_logins',\n 'logged_in',\n 'num_compromised',\n 'root_shell',\n 'su_attempted',\n 'num_root',\n 'num_file_creations',\n 'num_shells',\n 'num_access_files',\n 'num_outbound_cmds',\n 'is_host_login',\n 'is_guest_login',\n 'count',\n 'srv_count',\n 'serror_rate',\n 'srv_serror_rate',\n 'rerror_rate',\n 'srv_rerror_rate',\n 'same_srv_rate',\n 'diff_srv_rate',\n 'srv_diff_host_rate',\n 'dst_host_count',\n 'dst_host_srv_count',\n 'dst_host_same_srv_rate',\n 'dst_host_diff_srv_rate',\n 'dst_host_same_src_port_rate',\n 'dst_host_srv_diff_host_rate',\n 'dst_host_serror_rate',\n 'dst_host_srv_serror_rate',\n 'dst_host_rerror_rate',\n 'dst_host_srv_rerror_rate']"
     },
     "metadata": {}
    }
   ]
  },
  {
   "cell_type": "code",
   "source": [
    "non_numeric_features"
   ],
   "metadata": {
    "execution": {
     "iopub.status.busy": "2023-03-22T15:15:14.292677Z",
     "iopub.execute_input": "2023-03-22T15:15:14.293363Z",
     "iopub.status.idle": "2023-03-22T15:15:14.301845Z",
     "shell.execute_reply.started": "2023-03-22T15:15:14.293273Z",
     "shell.execute_reply": "2023-03-22T15:15:14.300463Z"
    },
    "trusted": true
   },
   "execution_count": 13,
   "outputs": [
    {
     "execution_count": 13,
     "output_type": "execute_result",
     "data": {
      "text/plain": "['protocol_type', 'service', 'flag', 'target', 'Attack_Type']"
     },
     "metadata": {}
    }
   ]
  },
  {
   "cell_type": "code",
   "source": [
    "kdd_df['protocol_type'].value_counts()"
   ],
   "metadata": {
    "execution": {
     "iopub.status.busy": "2023-03-22T15:15:14.303732Z",
     "iopub.execute_input": "2023-03-22T15:15:14.304453Z",
     "iopub.status.idle": "2023-03-22T15:15:14.350751Z",
     "shell.execute_reply.started": "2023-03-22T15:15:14.304363Z",
     "shell.execute_reply": "2023-03-22T15:15:14.348970Z"
    },
    "trusted": true
   },
   "execution_count": 14,
   "outputs": [
    {
     "execution_count": 14,
     "output_type": "execute_result",
     "data": {
      "text/plain": "icmp    283602\ntcp     190065\nudp      20354\nName: protocol_type, dtype: int64"
     },
     "metadata": {}
    }
   ]
  },
  {
   "cell_type": "code",
   "source": [
    "kdd_df['service'].value_counts()"
   ],
   "metadata": {
    "execution": {
     "iopub.status.busy": "2023-03-22T15:15:14.352550Z",
     "iopub.execute_input": "2023-03-22T15:15:14.352929Z",
     "iopub.status.idle": "2023-03-22T15:15:14.397102Z",
     "shell.execute_reply.started": "2023-03-22T15:15:14.352893Z",
     "shell.execute_reply": "2023-03-22T15:15:14.395670Z"
    },
    "trusted": true
   },
   "execution_count": 15,
   "outputs": [
    {
     "execution_count": 15,
     "output_type": "execute_result",
     "data": {
      "text/plain": "ecr_i      281400\nprivate    110893\nhttp        64293\nsmtp         9723\nother        7237\n            ...  \nX11            11\ntim_i           7\npm_dump         1\ntftp_u          1\nred_i           1\nName: service, Length: 66, dtype: int64"
     },
     "metadata": {}
    }
   ]
  },
  {
   "cell_type": "code",
   "source": [
    "kdd_df['flag'].value_counts()"
   ],
   "metadata": {
    "execution": {
     "iopub.status.busy": "2023-03-22T15:15:14.398417Z",
     "iopub.execute_input": "2023-03-22T15:15:14.398846Z",
     "iopub.status.idle": "2023-03-22T15:15:14.444359Z",
     "shell.execute_reply.started": "2023-03-22T15:15:14.398794Z",
     "shell.execute_reply": "2023-03-22T15:15:14.442703Z"
    },
    "trusted": true
   },
   "execution_count": 16,
   "outputs": [
    {
     "execution_count": 16,
     "output_type": "execute_result",
     "data": {
      "text/plain": "SF        378440\nS0         87007\nREJ        26875\nRSTR         903\nRSTO         579\nSH           107\nS1            57\nS2            24\nRSTOS0        11\nS3            10\nOTH            8\nName: flag, dtype: int64"
     },
     "metadata": {}
    }
   ]
  },
  {
   "cell_type": "code",
   "source": [
    "kdd_df['target'].value_counts()"
   ],
   "metadata": {
    "execution": {
     "iopub.status.busy": "2023-03-22T15:15:14.446046Z",
     "iopub.execute_input": "2023-03-22T15:15:14.446449Z",
     "iopub.status.idle": "2023-03-22T15:15:14.490886Z",
     "shell.execute_reply.started": "2023-03-22T15:15:14.446395Z",
     "shell.execute_reply": "2023-03-22T15:15:14.489446Z"
    },
    "trusted": true
   },
   "execution_count": 17,
   "outputs": [
    {
     "execution_count": 17,
     "output_type": "execute_result",
     "data": {
      "text/plain": "smurf.              280790\nneptune.            107201\nnormal.              97278\nback.                 2203\nsatan.                1589\nipsweep.              1247\nportsweep.            1040\nwarezclient.          1020\nteardrop.              979\npod.                   264\nnmap.                  231\nguess_passwd.           53\nbuffer_overflow.        30\nland.                   21\nwarezmaster.            20\nimap.                   12\nrootkit.                10\nloadmodule.              9\nftp_write.               8\nmultihop.                7\nphf.                     4\nperl.                    3\nspy.                     2\nName: target, dtype: int64"
     },
     "metadata": {}
    }
   ]
  },
  {
   "cell_type": "code",
   "source": [
    "kdd_df['Attack_Type'].value_counts()"
   ],
   "metadata": {
    "execution": {
     "iopub.status.busy": "2023-03-22T15:15:14.492438Z",
     "iopub.execute_input": "2023-03-22T15:15:14.492985Z",
     "iopub.status.idle": "2023-03-22T15:15:14.528355Z",
     "shell.execute_reply.started": "2023-03-22T15:15:14.492934Z",
     "shell.execute_reply": "2023-03-22T15:15:14.526380Z"
    },
    "trusted": true
   },
   "execution_count": 18,
   "outputs": [
    {
     "execution_count": 18,
     "output_type": "execute_result",
     "data": {
      "text/plain": "dos       391458\nnormal     97278\nprobe       4107\nr2l         1126\nu2r           52\nName: Attack_Type, dtype: int64"
     },
     "metadata": {}
    }
   ]
  },
  {
   "cell_type": "code",
   "source": [
    "kdd_df['target'].value_counts()"
   ],
   "metadata": {
    "execution": {
     "iopub.status.busy": "2023-03-22T15:15:14.530169Z",
     "iopub.execute_input": "2023-03-22T15:15:14.530787Z",
     "iopub.status.idle": "2023-03-22T15:15:14.574222Z",
     "shell.execute_reply.started": "2023-03-22T15:15:14.530733Z",
     "shell.execute_reply": "2023-03-22T15:15:14.572780Z"
    },
    "trusted": true
   },
   "execution_count": 19,
   "outputs": [
    {
     "execution_count": 19,
     "output_type": "execute_result",
     "data": {
      "text/plain": "smurf.              280790\nneptune.            107201\nnormal.              97278\nback.                 2203\nsatan.                1589\nipsweep.              1247\nportsweep.            1040\nwarezclient.          1020\nteardrop.              979\npod.                   264\nnmap.                  231\nguess_passwd.           53\nbuffer_overflow.        30\nland.                   21\nwarezmaster.            20\nimap.                   12\nrootkit.                10\nloadmodule.              9\nftp_write.               8\nmultihop.                7\nphf.                     4\nperl.                    3\nspy.                     2\nName: target, dtype: int64"
     },
     "metadata": {}
    }
   ]
  },
  {
   "cell_type": "code",
   "source": [
    "kdd_df.isnull().sum()"
   ],
   "metadata": {
    "execution": {
     "iopub.status.busy": "2023-03-22T15:15:14.575852Z",
     "iopub.execute_input": "2023-03-22T15:15:14.576317Z",
     "iopub.status.idle": "2023-03-22T15:15:14.735820Z",
     "shell.execute_reply.started": "2023-03-22T15:15:14.576279Z",
     "shell.execute_reply": "2023-03-22T15:15:14.734042Z"
    },
    "trusted": true
   },
   "execution_count": 20,
   "outputs": [
    {
     "execution_count": 20,
     "output_type": "execute_result",
     "data": {
      "text/plain": "duration                       0\nprotocol_type                  0\nservice                        0\nflag                           0\nsrc_bytes                      0\ndst_bytes                      0\nland                           0\nwrong_fragment                 0\nurgent                         0\nhot                            0\nnum_failed_logins              0\nlogged_in                      0\nnum_compromised                0\nroot_shell                     0\nsu_attempted                   0\nnum_root                       0\nnum_file_creations             0\nnum_shells                     0\nnum_access_files               0\nnum_outbound_cmds              0\nis_host_login                  0\nis_guest_login                 0\ncount                          0\nsrv_count                      0\nserror_rate                    0\nsrv_serror_rate                0\nrerror_rate                    0\nsrv_rerror_rate                0\nsame_srv_rate                  0\ndiff_srv_rate                  0\nsrv_diff_host_rate             0\ndst_host_count                 0\ndst_host_srv_count             0\ndst_host_same_srv_rate         0\ndst_host_diff_srv_rate         0\ndst_host_same_src_port_rate    0\ndst_host_srv_diff_host_rate    0\ndst_host_serror_rate           0\ndst_host_srv_serror_rate       0\ndst_host_rerror_rate           0\ndst_host_srv_rerror_rate       0\ntarget                         0\nAttack_Type                    0\ndtype: int64"
     },
     "metadata": {}
    }
   ]
  },
  {
   "cell_type": "markdown",
   "source": [
    "No null values"
   ],
   "metadata": {}
  },
  {
   "cell_type": "code",
   "source": [
    "kdd_df.target=kdd_df.target.apply(lambda x: 0 if x == 'normal.' else 1)"
   ],
   "metadata": {
    "execution": {
     "iopub.status.busy": "2023-03-22T15:15:14.739589Z",
     "iopub.execute_input": "2023-03-22T15:15:14.739962Z",
     "iopub.status.idle": "2023-03-22T15:15:14.942520Z",
     "shell.execute_reply.started": "2023-03-22T15:15:14.739927Z",
     "shell.execute_reply": "2023-03-22T15:15:14.941547Z"
    },
    "trusted": true
   },
   "execution_count": 21,
   "outputs": []
  },
  {
   "cell_type": "code",
   "source": [
    "def bar_graph(df,feature):\n",
    "    df[feature].value_counts().plot(kind=\"bar\")"
   ],
   "metadata": {
    "execution": {
     "iopub.status.busy": "2023-03-22T15:15:14.943812Z",
     "iopub.execute_input": "2023-03-22T15:15:14.944141Z",
     "iopub.status.idle": "2023-03-22T15:15:14.949887Z",
     "shell.execute_reply.started": "2023-03-22T15:15:14.944110Z",
     "shell.execute_reply": "2023-03-22T15:15:14.948623Z"
    },
    "trusted": true
   },
   "execution_count": 22,
   "outputs": []
  },
  {
   "cell_type": "code",
   "source": [
    "#label encoding \n",
    "def label_encoding(df):\n",
    "    for column in df.columns:\n",
    "        if df[column].dtype == np.object:\n",
    "            encoded = LabelEncoder()\n",
    "        \n",
    "            encoded.fit(df[column])\n",
    "            df[column] = encoded.transform(df[column])\n",
    "    return df"
   ],
   "metadata": {
    "execution": {
     "iopub.status.busy": "2023-03-22T15:15:14.951360Z",
     "iopub.execute_input": "2023-03-22T15:15:14.952518Z",
     "iopub.status.idle": "2023-03-22T15:15:14.960898Z",
     "shell.execute_reply.started": "2023-03-22T15:15:14.952440Z",
     "shell.execute_reply": "2023-03-22T15:15:14.959551Z"
    },
    "trusted": true
   },
   "execution_count": 23,
   "outputs": []
  },
  {
   "cell_type": "code",
   "source": [
    "kdd_df = label_encoding(kdd_df)"
   ],
   "metadata": {
    "execution": {
     "iopub.status.busy": "2023-03-22T15:15:14.962518Z",
     "iopub.execute_input": "2023-03-22T15:15:14.963265Z",
     "iopub.status.idle": "2023-03-22T15:15:15.480522Z",
     "shell.execute_reply.started": "2023-03-22T15:15:14.963214Z",
     "shell.execute_reply": "2023-03-22T15:15:15.479420Z"
    },
    "trusted": true
   },
   "execution_count": 24,
   "outputs": [
    {
     "name": "stderr",
     "text": "/opt/conda/lib/python3.7/site-packages/ipykernel_launcher.py:4: DeprecationWarning: `np.object` is a deprecated alias for the builtin `object`. To silence this warning, use `object` by itself. Doing this will not modify any behavior and is safe. \nDeprecated in NumPy 1.20; for more details and guidance: https://numpy.org/devdocs/release/1.20.0-notes.html#deprecations\n  after removing the cwd from sys.path.\n",
     "output_type": "stream"
    }
   ]
  },
  {
   "cell_type": "code",
   "source": [
    "kdd_df"
   ],
   "metadata": {
    "execution": {
     "iopub.status.busy": "2023-03-22T15:15:15.482413Z",
     "iopub.execute_input": "2023-03-22T15:15:15.483303Z",
     "iopub.status.idle": "2023-03-22T15:15:15.631974Z",
     "shell.execute_reply.started": "2023-03-22T15:15:15.483250Z",
     "shell.execute_reply": "2023-03-22T15:15:15.630694Z"
    },
    "trusted": true
   },
   "execution_count": 25,
   "outputs": [
    {
     "execution_count": 25,
     "output_type": "execute_result",
     "data": {
      "text/plain": "        duration  protocol_type  service  flag  src_bytes  dst_bytes  land  \\\n0              0              1       22     9        181       5450     0   \n1              0              1       22     9        239        486     0   \n2              0              1       22     9        235       1337     0   \n3              0              1       22     9        219       1337     0   \n4              0              1       22     9        217       2032     0   \n...          ...            ...      ...   ...        ...        ...   ...   \n494016         0              1       22     9        310       1881     0   \n494017         0              1       22     9        282       2286     0   \n494018         0              1       22     9        203       1200     0   \n494019         0              1       22     9        291       1200     0   \n494020         0              1       22     9        219       1234     0   \n\n        wrong_fragment  urgent  hot  ...  dst_host_same_srv_rate  \\\n0                    0       0    0  ...                     1.0   \n1                    0       0    0  ...                     1.0   \n2                    0       0    0  ...                     1.0   \n3                    0       0    0  ...                     1.0   \n4                    0       0    0  ...                     1.0   \n...                ...     ...  ...  ...                     ...   \n494016               0       0    0  ...                     1.0   \n494017               0       0    0  ...                     1.0   \n494018               0       0    0  ...                     1.0   \n494019               0       0    0  ...                     1.0   \n494020               0       0    0  ...                     1.0   \n\n        dst_host_diff_srv_rate  dst_host_same_src_port_rate  \\\n0                          0.0                         0.11   \n1                          0.0                         0.05   \n2                          0.0                         0.03   \n3                          0.0                         0.03   \n4                          0.0                         0.02   \n...                        ...                          ...   \n494016                     0.0                         0.01   \n494017                     0.0                         0.17   \n494018                     0.0                         0.06   \n494019                     0.0                         0.04   \n494020                     0.0                         0.17   \n\n        dst_host_srv_diff_host_rate  dst_host_serror_rate  \\\n0                              0.00                  0.00   \n1                              0.00                  0.00   \n2                              0.00                  0.00   \n3                              0.00                  0.00   \n4                              0.00                  0.00   \n...                             ...                   ...   \n494016                         0.05                  0.00   \n494017                         0.05                  0.00   \n494018                         0.05                  0.06   \n494019                         0.05                  0.04   \n494020                         0.05                  0.00   \n\n        dst_host_srv_serror_rate  dst_host_rerror_rate  \\\n0                           0.00                   0.0   \n1                           0.00                   0.0   \n2                           0.00                   0.0   \n3                           0.00                   0.0   \n4                           0.00                   0.0   \n...                          ...                   ...   \n494016                      0.01                   0.0   \n494017                      0.01                   0.0   \n494018                      0.01                   0.0   \n494019                      0.01                   0.0   \n494020                      0.01                   0.0   \n\n        dst_host_srv_rerror_rate  target  Attack_Type  \n0                            0.0       0            1  \n1                            0.0       0            1  \n2                            0.0       0            1  \n3                            0.0       0            1  \n4                            0.0       0            1  \n...                          ...     ...          ...  \n494016                       0.0       0            1  \n494017                       0.0       0            1  \n494018                       0.0       0            1  \n494019                       0.0       0            1  \n494020                       0.0       0            1  \n\n[494021 rows x 43 columns]",
      "text/html": "<div>\n<style scoped>\n    .dataframe tbody tr th:only-of-type {\n        vertical-align: middle;\n    }\n\n    .dataframe tbody tr th {\n        vertical-align: top;\n    }\n\n    .dataframe thead th {\n        text-align: right;\n    }\n</style>\n<table border=\"1\" class=\"dataframe\">\n  <thead>\n    <tr style=\"text-align: right;\">\n      <th></th>\n      <th>duration</th>\n      <th>protocol_type</th>\n      <th>service</th>\n      <th>flag</th>\n      <th>src_bytes</th>\n      <th>dst_bytes</th>\n      <th>land</th>\n      <th>wrong_fragment</th>\n      <th>urgent</th>\n      <th>hot</th>\n      <th>...</th>\n      <th>dst_host_same_srv_rate</th>\n      <th>dst_host_diff_srv_rate</th>\n      <th>dst_host_same_src_port_rate</th>\n      <th>dst_host_srv_diff_host_rate</th>\n      <th>dst_host_serror_rate</th>\n      <th>dst_host_srv_serror_rate</th>\n      <th>dst_host_rerror_rate</th>\n      <th>dst_host_srv_rerror_rate</th>\n      <th>target</th>\n      <th>Attack_Type</th>\n    </tr>\n  </thead>\n  <tbody>\n    <tr>\n      <th>0</th>\n      <td>0</td>\n      <td>1</td>\n      <td>22</td>\n      <td>9</td>\n      <td>181</td>\n      <td>5450</td>\n      <td>0</td>\n      <td>0</td>\n      <td>0</td>\n      <td>0</td>\n      <td>...</td>\n      <td>1.0</td>\n      <td>0.0</td>\n      <td>0.11</td>\n      <td>0.00</td>\n      <td>0.00</td>\n      <td>0.00</td>\n      <td>0.0</td>\n      <td>0.0</td>\n      <td>0</td>\n      <td>1</td>\n    </tr>\n    <tr>\n      <th>1</th>\n      <td>0</td>\n      <td>1</td>\n      <td>22</td>\n      <td>9</td>\n      <td>239</td>\n      <td>486</td>\n      <td>0</td>\n      <td>0</td>\n      <td>0</td>\n      <td>0</td>\n      <td>...</td>\n      <td>1.0</td>\n      <td>0.0</td>\n      <td>0.05</td>\n      <td>0.00</td>\n      <td>0.00</td>\n      <td>0.00</td>\n      <td>0.0</td>\n      <td>0.0</td>\n      <td>0</td>\n      <td>1</td>\n    </tr>\n    <tr>\n      <th>2</th>\n      <td>0</td>\n      <td>1</td>\n      <td>22</td>\n      <td>9</td>\n      <td>235</td>\n      <td>1337</td>\n      <td>0</td>\n      <td>0</td>\n      <td>0</td>\n      <td>0</td>\n      <td>...</td>\n      <td>1.0</td>\n      <td>0.0</td>\n      <td>0.03</td>\n      <td>0.00</td>\n      <td>0.00</td>\n      <td>0.00</td>\n      <td>0.0</td>\n      <td>0.0</td>\n      <td>0</td>\n      <td>1</td>\n    </tr>\n    <tr>\n      <th>3</th>\n      <td>0</td>\n      <td>1</td>\n      <td>22</td>\n      <td>9</td>\n      <td>219</td>\n      <td>1337</td>\n      <td>0</td>\n      <td>0</td>\n      <td>0</td>\n      <td>0</td>\n      <td>...</td>\n      <td>1.0</td>\n      <td>0.0</td>\n      <td>0.03</td>\n      <td>0.00</td>\n      <td>0.00</td>\n      <td>0.00</td>\n      <td>0.0</td>\n      <td>0.0</td>\n      <td>0</td>\n      <td>1</td>\n    </tr>\n    <tr>\n      <th>4</th>\n      <td>0</td>\n      <td>1</td>\n      <td>22</td>\n      <td>9</td>\n      <td>217</td>\n      <td>2032</td>\n      <td>0</td>\n      <td>0</td>\n      <td>0</td>\n      <td>0</td>\n      <td>...</td>\n      <td>1.0</td>\n      <td>0.0</td>\n      <td>0.02</td>\n      <td>0.00</td>\n      <td>0.00</td>\n      <td>0.00</td>\n      <td>0.0</td>\n      <td>0.0</td>\n      <td>0</td>\n      <td>1</td>\n    </tr>\n    <tr>\n      <th>...</th>\n      <td>...</td>\n      <td>...</td>\n      <td>...</td>\n      <td>...</td>\n      <td>...</td>\n      <td>...</td>\n      <td>...</td>\n      <td>...</td>\n      <td>...</td>\n      <td>...</td>\n      <td>...</td>\n      <td>...</td>\n      <td>...</td>\n      <td>...</td>\n      <td>...</td>\n      <td>...</td>\n      <td>...</td>\n      <td>...</td>\n      <td>...</td>\n      <td>...</td>\n      <td>...</td>\n    </tr>\n    <tr>\n      <th>494016</th>\n      <td>0</td>\n      <td>1</td>\n      <td>22</td>\n      <td>9</td>\n      <td>310</td>\n      <td>1881</td>\n      <td>0</td>\n      <td>0</td>\n      <td>0</td>\n      <td>0</td>\n      <td>...</td>\n      <td>1.0</td>\n      <td>0.0</td>\n      <td>0.01</td>\n      <td>0.05</td>\n      <td>0.00</td>\n      <td>0.01</td>\n      <td>0.0</td>\n      <td>0.0</td>\n      <td>0</td>\n      <td>1</td>\n    </tr>\n    <tr>\n      <th>494017</th>\n      <td>0</td>\n      <td>1</td>\n      <td>22</td>\n      <td>9</td>\n      <td>282</td>\n      <td>2286</td>\n      <td>0</td>\n      <td>0</td>\n      <td>0</td>\n      <td>0</td>\n      <td>...</td>\n      <td>1.0</td>\n      <td>0.0</td>\n      <td>0.17</td>\n      <td>0.05</td>\n      <td>0.00</td>\n      <td>0.01</td>\n      <td>0.0</td>\n      <td>0.0</td>\n      <td>0</td>\n      <td>1</td>\n    </tr>\n    <tr>\n      <th>494018</th>\n      <td>0</td>\n      <td>1</td>\n      <td>22</td>\n      <td>9</td>\n      <td>203</td>\n      <td>1200</td>\n      <td>0</td>\n      <td>0</td>\n      <td>0</td>\n      <td>0</td>\n      <td>...</td>\n      <td>1.0</td>\n      <td>0.0</td>\n      <td>0.06</td>\n      <td>0.05</td>\n      <td>0.06</td>\n      <td>0.01</td>\n      <td>0.0</td>\n      <td>0.0</td>\n      <td>0</td>\n      <td>1</td>\n    </tr>\n    <tr>\n      <th>494019</th>\n      <td>0</td>\n      <td>1</td>\n      <td>22</td>\n      <td>9</td>\n      <td>291</td>\n      <td>1200</td>\n      <td>0</td>\n      <td>0</td>\n      <td>0</td>\n      <td>0</td>\n      <td>...</td>\n      <td>1.0</td>\n      <td>0.0</td>\n      <td>0.04</td>\n      <td>0.05</td>\n      <td>0.04</td>\n      <td>0.01</td>\n      <td>0.0</td>\n      <td>0.0</td>\n      <td>0</td>\n      <td>1</td>\n    </tr>\n    <tr>\n      <th>494020</th>\n      <td>0</td>\n      <td>1</td>\n      <td>22</td>\n      <td>9</td>\n      <td>219</td>\n      <td>1234</td>\n      <td>0</td>\n      <td>0</td>\n      <td>0</td>\n      <td>0</td>\n      <td>...</td>\n      <td>1.0</td>\n      <td>0.0</td>\n      <td>0.17</td>\n      <td>0.05</td>\n      <td>0.00</td>\n      <td>0.01</td>\n      <td>0.0</td>\n      <td>0.0</td>\n      <td>0</td>\n      <td>1</td>\n    </tr>\n  </tbody>\n</table>\n<p>494021 rows × 43 columns</p>\n</div>"
     },
     "metadata": {}
    }
   ]
  },
  {
   "cell_type": "code",
   "source": [
    "kdd_df['target'].value_counts()"
   ],
   "metadata": {
    "execution": {
     "iopub.status.busy": "2023-03-22T15:15:15.634146Z",
     "iopub.execute_input": "2023-03-22T15:15:15.635075Z",
     "iopub.status.idle": "2023-03-22T15:15:15.650213Z",
     "shell.execute_reply.started": "2023-03-22T15:15:15.635021Z",
     "shell.execute_reply": "2023-03-22T15:15:15.649207Z"
    },
    "trusted": true
   },
   "execution_count": 26,
   "outputs": [
    {
     "execution_count": 26,
     "output_type": "execute_result",
     "data": {
      "text/plain": "1    396743\n0     97278\nName: target, dtype: int64"
     },
     "metadata": {}
    }
   ]
  },
  {
   "cell_type": "code",
   "source": [
    "from sklearn.preprocessing import MinMaxScaler\n",
    "scaler = MinMaxScaler()\n",
    "kdd_df = pd.DataFrame(scaler.fit_transform(kdd_df), columns=kdd_df.columns)"
   ],
   "metadata": {
    "execution": {
     "iopub.status.busy": "2023-03-22T15:15:15.651774Z",
     "iopub.execute_input": "2023-03-22T15:15:15.652998Z",
     "iopub.status.idle": "2023-03-22T15:15:16.253176Z",
     "shell.execute_reply.started": "2023-03-22T15:15:15.652946Z",
     "shell.execute_reply": "2023-03-22T15:15:16.252102Z"
    },
    "trusted": true
   },
   "execution_count": 27,
   "outputs": []
  },
  {
   "cell_type": "code",
   "source": [
    "kdd_df"
   ],
   "metadata": {
    "execution": {
     "iopub.status.busy": "2023-03-22T15:15:16.259069Z",
     "iopub.execute_input": "2023-03-22T15:15:16.259932Z",
     "iopub.status.idle": "2023-03-22T15:15:16.347605Z",
     "shell.execute_reply.started": "2023-03-22T15:15:16.259893Z",
     "shell.execute_reply": "2023-03-22T15:15:16.346302Z"
    },
    "trusted": true
   },
   "execution_count": 28,
   "outputs": [
    {
     "execution_count": 28,
     "output_type": "execute_result",
     "data": {
      "text/plain": "        duration  protocol_type   service  flag     src_bytes  dst_bytes  \\\n0            0.0            0.5  0.338462   0.9  2.610418e-07   0.001057   \n1            0.0            0.5  0.338462   0.9  3.446905e-07   0.000094   \n2            0.0            0.5  0.338462   0.9  3.389216e-07   0.000259   \n3            0.0            0.5  0.338462   0.9  3.158461e-07   0.000259   \n4            0.0            0.5  0.338462   0.9  3.129617e-07   0.000394   \n...          ...            ...       ...   ...           ...        ...   \n494016       0.0            0.5  0.338462   0.9  4.470881e-07   0.000365   \n494017       0.0            0.5  0.338462   0.9  4.067060e-07   0.000443   \n494018       0.0            0.5  0.338462   0.9  2.927706e-07   0.000233   \n494019       0.0            0.5  0.338462   0.9  4.196859e-07   0.000233   \n494020       0.0            0.5  0.338462   0.9  3.158461e-07   0.000239   \n\n        land  wrong_fragment  urgent  hot  ...  dst_host_same_srv_rate  \\\n0        0.0             0.0     0.0  0.0  ...                     1.0   \n1        0.0             0.0     0.0  0.0  ...                     1.0   \n2        0.0             0.0     0.0  0.0  ...                     1.0   \n3        0.0             0.0     0.0  0.0  ...                     1.0   \n4        0.0             0.0     0.0  0.0  ...                     1.0   \n...      ...             ...     ...  ...  ...                     ...   \n494016   0.0             0.0     0.0  0.0  ...                     1.0   \n494017   0.0             0.0     0.0  0.0  ...                     1.0   \n494018   0.0             0.0     0.0  0.0  ...                     1.0   \n494019   0.0             0.0     0.0  0.0  ...                     1.0   \n494020   0.0             0.0     0.0  0.0  ...                     1.0   \n\n        dst_host_diff_srv_rate  dst_host_same_src_port_rate  \\\n0                          0.0                         0.11   \n1                          0.0                         0.05   \n2                          0.0                         0.03   \n3                          0.0                         0.03   \n4                          0.0                         0.02   \n...                        ...                          ...   \n494016                     0.0                         0.01   \n494017                     0.0                         0.17   \n494018                     0.0                         0.06   \n494019                     0.0                         0.04   \n494020                     0.0                         0.17   \n\n        dst_host_srv_diff_host_rate  dst_host_serror_rate  \\\n0                              0.00                  0.00   \n1                              0.00                  0.00   \n2                              0.00                  0.00   \n3                              0.00                  0.00   \n4                              0.00                  0.00   \n...                             ...                   ...   \n494016                         0.05                  0.00   \n494017                         0.05                  0.00   \n494018                         0.05                  0.06   \n494019                         0.05                  0.04   \n494020                         0.05                  0.00   \n\n        dst_host_srv_serror_rate  dst_host_rerror_rate  \\\n0                           0.00                   0.0   \n1                           0.00                   0.0   \n2                           0.00                   0.0   \n3                           0.00                   0.0   \n4                           0.00                   0.0   \n...                          ...                   ...   \n494016                      0.01                   0.0   \n494017                      0.01                   0.0   \n494018                      0.01                   0.0   \n494019                      0.01                   0.0   \n494020                      0.01                   0.0   \n\n        dst_host_srv_rerror_rate  target  Attack_Type  \n0                            0.0     0.0         0.25  \n1                            0.0     0.0         0.25  \n2                            0.0     0.0         0.25  \n3                            0.0     0.0         0.25  \n4                            0.0     0.0         0.25  \n...                          ...     ...          ...  \n494016                       0.0     0.0         0.25  \n494017                       0.0     0.0         0.25  \n494018                       0.0     0.0         0.25  \n494019                       0.0     0.0         0.25  \n494020                       0.0     0.0         0.25  \n\n[494021 rows x 43 columns]",
      "text/html": "<div>\n<style scoped>\n    .dataframe tbody tr th:only-of-type {\n        vertical-align: middle;\n    }\n\n    .dataframe tbody tr th {\n        vertical-align: top;\n    }\n\n    .dataframe thead th {\n        text-align: right;\n    }\n</style>\n<table border=\"1\" class=\"dataframe\">\n  <thead>\n    <tr style=\"text-align: right;\">\n      <th></th>\n      <th>duration</th>\n      <th>protocol_type</th>\n      <th>service</th>\n      <th>flag</th>\n      <th>src_bytes</th>\n      <th>dst_bytes</th>\n      <th>land</th>\n      <th>wrong_fragment</th>\n      <th>urgent</th>\n      <th>hot</th>\n      <th>...</th>\n      <th>dst_host_same_srv_rate</th>\n      <th>dst_host_diff_srv_rate</th>\n      <th>dst_host_same_src_port_rate</th>\n      <th>dst_host_srv_diff_host_rate</th>\n      <th>dst_host_serror_rate</th>\n      <th>dst_host_srv_serror_rate</th>\n      <th>dst_host_rerror_rate</th>\n      <th>dst_host_srv_rerror_rate</th>\n      <th>target</th>\n      <th>Attack_Type</th>\n    </tr>\n  </thead>\n  <tbody>\n    <tr>\n      <th>0</th>\n      <td>0.0</td>\n      <td>0.5</td>\n      <td>0.338462</td>\n      <td>0.9</td>\n      <td>2.610418e-07</td>\n      <td>0.001057</td>\n      <td>0.0</td>\n      <td>0.0</td>\n      <td>0.0</td>\n      <td>0.0</td>\n      <td>...</td>\n      <td>1.0</td>\n      <td>0.0</td>\n      <td>0.11</td>\n      <td>0.00</td>\n      <td>0.00</td>\n      <td>0.00</td>\n      <td>0.0</td>\n      <td>0.0</td>\n      <td>0.0</td>\n      <td>0.25</td>\n    </tr>\n    <tr>\n      <th>1</th>\n      <td>0.0</td>\n      <td>0.5</td>\n      <td>0.338462</td>\n      <td>0.9</td>\n      <td>3.446905e-07</td>\n      <td>0.000094</td>\n      <td>0.0</td>\n      <td>0.0</td>\n      <td>0.0</td>\n      <td>0.0</td>\n      <td>...</td>\n      <td>1.0</td>\n      <td>0.0</td>\n      <td>0.05</td>\n      <td>0.00</td>\n      <td>0.00</td>\n      <td>0.00</td>\n      <td>0.0</td>\n      <td>0.0</td>\n      <td>0.0</td>\n      <td>0.25</td>\n    </tr>\n    <tr>\n      <th>2</th>\n      <td>0.0</td>\n      <td>0.5</td>\n      <td>0.338462</td>\n      <td>0.9</td>\n      <td>3.389216e-07</td>\n      <td>0.000259</td>\n      <td>0.0</td>\n      <td>0.0</td>\n      <td>0.0</td>\n      <td>0.0</td>\n      <td>...</td>\n      <td>1.0</td>\n      <td>0.0</td>\n      <td>0.03</td>\n      <td>0.00</td>\n      <td>0.00</td>\n      <td>0.00</td>\n      <td>0.0</td>\n      <td>0.0</td>\n      <td>0.0</td>\n      <td>0.25</td>\n    </tr>\n    <tr>\n      <th>3</th>\n      <td>0.0</td>\n      <td>0.5</td>\n      <td>0.338462</td>\n      <td>0.9</td>\n      <td>3.158461e-07</td>\n      <td>0.000259</td>\n      <td>0.0</td>\n      <td>0.0</td>\n      <td>0.0</td>\n      <td>0.0</td>\n      <td>...</td>\n      <td>1.0</td>\n      <td>0.0</td>\n      <td>0.03</td>\n      <td>0.00</td>\n      <td>0.00</td>\n      <td>0.00</td>\n      <td>0.0</td>\n      <td>0.0</td>\n      <td>0.0</td>\n      <td>0.25</td>\n    </tr>\n    <tr>\n      <th>4</th>\n      <td>0.0</td>\n      <td>0.5</td>\n      <td>0.338462</td>\n      <td>0.9</td>\n      <td>3.129617e-07</td>\n      <td>0.000394</td>\n      <td>0.0</td>\n      <td>0.0</td>\n      <td>0.0</td>\n      <td>0.0</td>\n      <td>...</td>\n      <td>1.0</td>\n      <td>0.0</td>\n      <td>0.02</td>\n      <td>0.00</td>\n      <td>0.00</td>\n      <td>0.00</td>\n      <td>0.0</td>\n      <td>0.0</td>\n      <td>0.0</td>\n      <td>0.25</td>\n    </tr>\n    <tr>\n      <th>...</th>\n      <td>...</td>\n      <td>...</td>\n      <td>...</td>\n      <td>...</td>\n      <td>...</td>\n      <td>...</td>\n      <td>...</td>\n      <td>...</td>\n      <td>...</td>\n      <td>...</td>\n      <td>...</td>\n      <td>...</td>\n      <td>...</td>\n      <td>...</td>\n      <td>...</td>\n      <td>...</td>\n      <td>...</td>\n      <td>...</td>\n      <td>...</td>\n      <td>...</td>\n      <td>...</td>\n    </tr>\n    <tr>\n      <th>494016</th>\n      <td>0.0</td>\n      <td>0.5</td>\n      <td>0.338462</td>\n      <td>0.9</td>\n      <td>4.470881e-07</td>\n      <td>0.000365</td>\n      <td>0.0</td>\n      <td>0.0</td>\n      <td>0.0</td>\n      <td>0.0</td>\n      <td>...</td>\n      <td>1.0</td>\n      <td>0.0</td>\n      <td>0.01</td>\n      <td>0.05</td>\n      <td>0.00</td>\n      <td>0.01</td>\n      <td>0.0</td>\n      <td>0.0</td>\n      <td>0.0</td>\n      <td>0.25</td>\n    </tr>\n    <tr>\n      <th>494017</th>\n      <td>0.0</td>\n      <td>0.5</td>\n      <td>0.338462</td>\n      <td>0.9</td>\n      <td>4.067060e-07</td>\n      <td>0.000443</td>\n      <td>0.0</td>\n      <td>0.0</td>\n      <td>0.0</td>\n      <td>0.0</td>\n      <td>...</td>\n      <td>1.0</td>\n      <td>0.0</td>\n      <td>0.17</td>\n      <td>0.05</td>\n      <td>0.00</td>\n      <td>0.01</td>\n      <td>0.0</td>\n      <td>0.0</td>\n      <td>0.0</td>\n      <td>0.25</td>\n    </tr>\n    <tr>\n      <th>494018</th>\n      <td>0.0</td>\n      <td>0.5</td>\n      <td>0.338462</td>\n      <td>0.9</td>\n      <td>2.927706e-07</td>\n      <td>0.000233</td>\n      <td>0.0</td>\n      <td>0.0</td>\n      <td>0.0</td>\n      <td>0.0</td>\n      <td>...</td>\n      <td>1.0</td>\n      <td>0.0</td>\n      <td>0.06</td>\n      <td>0.05</td>\n      <td>0.06</td>\n      <td>0.01</td>\n      <td>0.0</td>\n      <td>0.0</td>\n      <td>0.0</td>\n      <td>0.25</td>\n    </tr>\n    <tr>\n      <th>494019</th>\n      <td>0.0</td>\n      <td>0.5</td>\n      <td>0.338462</td>\n      <td>0.9</td>\n      <td>4.196859e-07</td>\n      <td>0.000233</td>\n      <td>0.0</td>\n      <td>0.0</td>\n      <td>0.0</td>\n      <td>0.0</td>\n      <td>...</td>\n      <td>1.0</td>\n      <td>0.0</td>\n      <td>0.04</td>\n      <td>0.05</td>\n      <td>0.04</td>\n      <td>0.01</td>\n      <td>0.0</td>\n      <td>0.0</td>\n      <td>0.0</td>\n      <td>0.25</td>\n    </tr>\n    <tr>\n      <th>494020</th>\n      <td>0.0</td>\n      <td>0.5</td>\n      <td>0.338462</td>\n      <td>0.9</td>\n      <td>3.158461e-07</td>\n      <td>0.000239</td>\n      <td>0.0</td>\n      <td>0.0</td>\n      <td>0.0</td>\n      <td>0.0</td>\n      <td>...</td>\n      <td>1.0</td>\n      <td>0.0</td>\n      <td>0.17</td>\n      <td>0.05</td>\n      <td>0.00</td>\n      <td>0.01</td>\n      <td>0.0</td>\n      <td>0.0</td>\n      <td>0.0</td>\n      <td>0.25</td>\n    </tr>\n  </tbody>\n</table>\n<p>494021 rows × 43 columns</p>\n</div>"
     },
     "metadata": {}
    }
   ]
  },
  {
   "cell_type": "code",
   "source": [
    "#select some normal data to give it to the data generator later\n",
    "df_train = kdd_df[kdd_df.target==0].sample(1000)"
   ],
   "metadata": {
    "execution": {
     "iopub.status.busy": "2023-03-22T15:36:18.371599Z",
     "iopub.execute_input": "2023-03-22T15:36:18.372143Z",
     "iopub.status.idle": "2023-03-22T15:36:18.422935Z",
     "shell.execute_reply.started": "2023-03-22T15:36:18.372082Z",
     "shell.execute_reply": "2023-03-22T15:36:18.421686Z"
    },
    "trusted": true
   },
   "execution_count": 50,
   "outputs": []
  },
  {
   "cell_type": "code",
   "source": [
    "df_train['target'].value_counts()"
   ],
   "metadata": {
    "execution": {
     "iopub.status.busy": "2023-03-22T15:36:18.545857Z",
     "iopub.execute_input": "2023-03-22T15:36:18.546765Z",
     "iopub.status.idle": "2023-03-22T15:36:18.560199Z",
     "shell.execute_reply.started": "2023-03-22T15:36:18.546698Z",
     "shell.execute_reply": "2023-03-22T15:36:18.558701Z"
    },
    "trusted": true
   },
   "execution_count": 51,
   "outputs": [
    {
     "execution_count": 51,
     "output_type": "execute_result",
     "data": {
      "text/plain": "0.0    1000\nName: target, dtype: int64"
     },
     "metadata": {}
    }
   ]
  },
  {
   "cell_type": "code",
   "source": [
    "df_train=df_train.drop('target',axis=1)"
   ],
   "metadata": {
    "execution": {
     "iopub.status.busy": "2023-03-22T15:36:18.694228Z",
     "iopub.execute_input": "2023-03-22T15:36:18.696900Z",
     "iopub.status.idle": "2023-03-22T15:36:18.704177Z",
     "shell.execute_reply.started": "2023-03-22T15:36:18.696836Z",
     "shell.execute_reply": "2023-03-22T15:36:18.702387Z"
    },
    "trusted": true
   },
   "execution_count": 52,
   "outputs": []
  },
  {
   "cell_type": "code",
   "source": [
    "df_train.columns"
   ],
   "metadata": {
    "execution": {
     "iopub.status.busy": "2023-03-22T15:36:18.839599Z",
     "iopub.execute_input": "2023-03-22T15:36:18.840043Z",
     "iopub.status.idle": "2023-03-22T15:36:18.848847Z",
     "shell.execute_reply.started": "2023-03-22T15:36:18.840007Z",
     "shell.execute_reply": "2023-03-22T15:36:18.847652Z"
    },
    "trusted": true
   },
   "execution_count": 53,
   "outputs": [
    {
     "execution_count": 53,
     "output_type": "execute_result",
     "data": {
      "text/plain": "Index(['duration', 'protocol_type', 'service', 'flag', 'src_bytes',\n       'dst_bytes', 'land', 'wrong_fragment', 'urgent', 'hot',\n       'num_failed_logins', 'logged_in', 'num_compromised', 'root_shell',\n       'su_attempted', 'num_root', 'num_file_creations', 'num_shells',\n       'num_access_files', 'num_outbound_cmds', 'is_host_login',\n       'is_guest_login', 'count', 'srv_count', 'serror_rate',\n       'srv_serror_rate', 'rerror_rate', 'srv_rerror_rate', 'same_srv_rate',\n       'diff_srv_rate', 'srv_diff_host_rate', 'dst_host_count',\n       'dst_host_srv_count', 'dst_host_same_srv_rate',\n       'dst_host_diff_srv_rate', 'dst_host_same_src_port_rate',\n       'dst_host_srv_diff_host_rate', 'dst_host_serror_rate',\n       'dst_host_srv_serror_rate', 'dst_host_rerror_rate',\n       'dst_host_srv_rerror_rate', 'Attack_Type'],\n      dtype='object')"
     },
     "metadata": {}
    }
   ]
  },
  {
   "cell_type": "code",
   "source": [
    "def make_generator_model():\n",
    "    model = tf.keras.Sequential()\n",
    "    model.add(layers.Dense(16, use_bias=False, input_shape=(100,)))\n",
    "    model.add(layers.BatchNormalization())\n",
    "    model.add(layers.LeakyReLU())\n",
    "\n",
    "    model.add(layers.Dense(16))\n",
    "    assert model.output_shape == (None,16 ) # Note: None is the batch size\n",
    "    \n",
    "    model.add(layers.Dense(32))\n",
    "    model.add(layers.BatchNormalization())\n",
    "    model.add(layers.LeakyReLU())\n",
    "    \n",
    "    model.add(layers.Dense(32))\n",
    "    model.add(layers.BatchNormalization())\n",
    "    model.add(layers.LeakyReLU())\n",
    "    \n",
    "    model.add(layers.Dense(42))\n",
    "    assert model.output_shape == (None,42)\n",
    "   \n",
    "    \n",
    "    return model"
   ],
   "metadata": {
    "execution": {
     "iopub.status.busy": "2023-03-22T15:36:19.018912Z",
     "iopub.execute_input": "2023-03-22T15:36:19.019359Z",
     "iopub.status.idle": "2023-03-22T15:36:19.028246Z",
     "shell.execute_reply.started": "2023-03-22T15:36:19.019318Z",
     "shell.execute_reply": "2023-03-22T15:36:19.026970Z"
    },
    "trusted": true
   },
   "execution_count": 54,
   "outputs": []
  },
  {
   "cell_type": "code",
   "source": [
    "def make_discriminator_model():\n",
    "    model = tf.keras.Sequential()\n",
    "    model.add(layers.Dense(16, use_bias=False,\n",
    "                                    input_shape=[42]))\n",
    "   \n",
    "    model.add(layers.LeakyReLU())\n",
    "    model.add(layers.Dropout(0.3))\n",
    "\n",
    "    model.add(layers.Dense(32, use_bias=True))\n",
    "    model.add(layers.LeakyReLU())\n",
    "    model.add(layers.Dropout(0.3))\n",
    "\n",
    "   \n",
    "    model.add(layers.Dense(1))\n",
    "\n",
    "    return model"
   ],
   "metadata": {
    "execution": {
     "iopub.status.busy": "2023-03-22T15:36:19.157664Z",
     "iopub.execute_input": "2023-03-22T15:36:19.158083Z",
     "iopub.status.idle": "2023-03-22T15:36:19.165673Z",
     "shell.execute_reply.started": "2023-03-22T15:36:19.158044Z",
     "shell.execute_reply": "2023-03-22T15:36:19.164322Z"
    },
    "trusted": true
   },
   "execution_count": 55,
   "outputs": []
  },
  {
   "cell_type": "code",
   "source": [
    "generator=make_generator_model()\n",
    "discriminator=make_discriminator_model()"
   ],
   "metadata": {
    "execution": {
     "iopub.status.busy": "2023-03-22T15:36:19.312705Z",
     "iopub.execute_input": "2023-03-22T15:36:19.313726Z",
     "iopub.status.idle": "2023-03-22T15:36:19.482899Z",
     "shell.execute_reply.started": "2023-03-22T15:36:19.313679Z",
     "shell.execute_reply": "2023-03-22T15:36:19.481645Z"
    },
    "trusted": true
   },
   "execution_count": 56,
   "outputs": []
  },
  {
   "cell_type": "code",
   "source": [
    "discriminator.summary()"
   ],
   "metadata": {
    "execution": {
     "iopub.status.busy": "2023-03-22T15:36:19.484879Z",
     "iopub.execute_input": "2023-03-22T15:36:19.485253Z",
     "iopub.status.idle": "2023-03-22T15:36:19.519388Z",
     "shell.execute_reply.started": "2023-03-22T15:36:19.485218Z",
     "shell.execute_reply": "2023-03-22T15:36:19.518244Z"
    },
    "trusted": true
   },
   "execution_count": 57,
   "outputs": [
    {
     "name": "stdout",
     "text": "Model: \"sequential_3\"\n_________________________________________________________________\n Layer (type)                Output Shape              Param #   \n=================================================================\n dense_13 (Dense)            (None, 16)                672       \n                                                                 \n leaky_re_lu_8 (LeakyReLU)   (None, 16)                0         \n                                                                 \n dropout_2 (Dropout)         (None, 16)                0         \n                                                                 \n dense_14 (Dense)            (None, 32)                544       \n                                                                 \n leaky_re_lu_9 (LeakyReLU)   (None, 32)                0         \n                                                                 \n dropout_3 (Dropout)         (None, 32)                0         \n                                                                 \n dense_15 (Dense)            (None, 1)                 33        \n                                                                 \n=================================================================\nTotal params: 1,249\nTrainable params: 1,249\nNon-trainable params: 0\n_________________________________________________________________\n",
     "output_type": "stream"
    }
   ]
  },
  {
   "cell_type": "code",
   "source": [
    "df_train.columns"
   ],
   "metadata": {
    "execution": {
     "iopub.status.busy": "2023-03-22T15:36:19.623577Z",
     "iopub.execute_input": "2023-03-22T15:36:19.624804Z",
     "iopub.status.idle": "2023-03-22T15:36:19.633884Z",
     "shell.execute_reply.started": "2023-03-22T15:36:19.624746Z",
     "shell.execute_reply": "2023-03-22T15:36:19.632590Z"
    },
    "trusted": true
   },
   "execution_count": 58,
   "outputs": [
    {
     "execution_count": 58,
     "output_type": "execute_result",
     "data": {
      "text/plain": "Index(['duration', 'protocol_type', 'service', 'flag', 'src_bytes',\n       'dst_bytes', 'land', 'wrong_fragment', 'urgent', 'hot',\n       'num_failed_logins', 'logged_in', 'num_compromised', 'root_shell',\n       'su_attempted', 'num_root', 'num_file_creations', 'num_shells',\n       'num_access_files', 'num_outbound_cmds', 'is_host_login',\n       'is_guest_login', 'count', 'srv_count', 'serror_rate',\n       'srv_serror_rate', 'rerror_rate', 'srv_rerror_rate', 'same_srv_rate',\n       'diff_srv_rate', 'srv_diff_host_rate', 'dst_host_count',\n       'dst_host_srv_count', 'dst_host_same_srv_rate',\n       'dst_host_diff_srv_rate', 'dst_host_same_src_port_rate',\n       'dst_host_srv_diff_host_rate', 'dst_host_serror_rate',\n       'dst_host_srv_serror_rate', 'dst_host_rerror_rate',\n       'dst_host_srv_rerror_rate', 'Attack_Type'],\n      dtype='object')"
     },
     "metadata": {}
    }
   ]
  },
  {
   "cell_type": "code",
   "source": [
    "df_train_mini"
   ],
   "metadata": {
    "execution": {
     "iopub.status.busy": "2023-03-22T15:36:19.782713Z",
     "iopub.execute_input": "2023-03-22T15:36:19.783743Z",
     "iopub.status.idle": "2023-03-22T15:36:19.806958Z",
     "shell.execute_reply.started": "2023-03-22T15:36:19.783660Z",
     "shell.execute_reply": "2023-03-22T15:36:19.805698Z"
    },
    "trusted": true
   },
   "execution_count": 59,
   "outputs": [
    {
     "execution_count": 59,
     "output_type": "execute_result",
     "data": {
      "text/plain": "        duration  protocol_type   service  flag     src_bytes  land  \\\n0            0.0            0.5  0.338462   0.9  2.610418e-07   0.0   \n1            0.0            0.5  0.338462   0.9  3.446905e-07   0.0   \n2            0.0            0.5  0.338462   0.9  3.389216e-07   0.0   \n3            0.0            0.5  0.338462   0.9  3.158461e-07   0.0   \n4            0.0            0.5  0.338462   0.9  3.129617e-07   0.0   \n...          ...            ...       ...   ...           ...   ...   \n494016       0.0            0.5  0.338462   0.9  4.470881e-07   0.0   \n494017       0.0            0.5  0.338462   0.9  4.067060e-07   0.0   \n494018       0.0            0.5  0.338462   0.9  2.927706e-07   0.0   \n494019       0.0            0.5  0.338462   0.9  4.196859e-07   0.0   \n494020       0.0            0.5  0.338462   0.9  3.158461e-07   0.0   \n\n        dst_bytes  wrong_fragment  \n0        0.001057             0.0  \n1        0.000094             0.0  \n2        0.000259             0.0  \n3        0.000259             0.0  \n4        0.000394             0.0  \n...           ...             ...  \n494016   0.000365             0.0  \n494017   0.000443             0.0  \n494018   0.000233             0.0  \n494019   0.000233             0.0  \n494020   0.000239             0.0  \n\n[97278 rows x 8 columns]",
      "text/html": "<div>\n<style scoped>\n    .dataframe tbody tr th:only-of-type {\n        vertical-align: middle;\n    }\n\n    .dataframe tbody tr th {\n        vertical-align: top;\n    }\n\n    .dataframe thead th {\n        text-align: right;\n    }\n</style>\n<table border=\"1\" class=\"dataframe\">\n  <thead>\n    <tr style=\"text-align: right;\">\n      <th></th>\n      <th>duration</th>\n      <th>protocol_type</th>\n      <th>service</th>\n      <th>flag</th>\n      <th>src_bytes</th>\n      <th>land</th>\n      <th>dst_bytes</th>\n      <th>wrong_fragment</th>\n    </tr>\n  </thead>\n  <tbody>\n    <tr>\n      <th>0</th>\n      <td>0.0</td>\n      <td>0.5</td>\n      <td>0.338462</td>\n      <td>0.9</td>\n      <td>2.610418e-07</td>\n      <td>0.0</td>\n      <td>0.001057</td>\n      <td>0.0</td>\n    </tr>\n    <tr>\n      <th>1</th>\n      <td>0.0</td>\n      <td>0.5</td>\n      <td>0.338462</td>\n      <td>0.9</td>\n      <td>3.446905e-07</td>\n      <td>0.0</td>\n      <td>0.000094</td>\n      <td>0.0</td>\n    </tr>\n    <tr>\n      <th>2</th>\n      <td>0.0</td>\n      <td>0.5</td>\n      <td>0.338462</td>\n      <td>0.9</td>\n      <td>3.389216e-07</td>\n      <td>0.0</td>\n      <td>0.000259</td>\n      <td>0.0</td>\n    </tr>\n    <tr>\n      <th>3</th>\n      <td>0.0</td>\n      <td>0.5</td>\n      <td>0.338462</td>\n      <td>0.9</td>\n      <td>3.158461e-07</td>\n      <td>0.0</td>\n      <td>0.000259</td>\n      <td>0.0</td>\n    </tr>\n    <tr>\n      <th>4</th>\n      <td>0.0</td>\n      <td>0.5</td>\n      <td>0.338462</td>\n      <td>0.9</td>\n      <td>3.129617e-07</td>\n      <td>0.0</td>\n      <td>0.000394</td>\n      <td>0.0</td>\n    </tr>\n    <tr>\n      <th>...</th>\n      <td>...</td>\n      <td>...</td>\n      <td>...</td>\n      <td>...</td>\n      <td>...</td>\n      <td>...</td>\n      <td>...</td>\n      <td>...</td>\n    </tr>\n    <tr>\n      <th>494016</th>\n      <td>0.0</td>\n      <td>0.5</td>\n      <td>0.338462</td>\n      <td>0.9</td>\n      <td>4.470881e-07</td>\n      <td>0.0</td>\n      <td>0.000365</td>\n      <td>0.0</td>\n    </tr>\n    <tr>\n      <th>494017</th>\n      <td>0.0</td>\n      <td>0.5</td>\n      <td>0.338462</td>\n      <td>0.9</td>\n      <td>4.067060e-07</td>\n      <td>0.0</td>\n      <td>0.000443</td>\n      <td>0.0</td>\n    </tr>\n    <tr>\n      <th>494018</th>\n      <td>0.0</td>\n      <td>0.5</td>\n      <td>0.338462</td>\n      <td>0.9</td>\n      <td>2.927706e-07</td>\n      <td>0.0</td>\n      <td>0.000233</td>\n      <td>0.0</td>\n    </tr>\n    <tr>\n      <th>494019</th>\n      <td>0.0</td>\n      <td>0.5</td>\n      <td>0.338462</td>\n      <td>0.9</td>\n      <td>4.196859e-07</td>\n      <td>0.0</td>\n      <td>0.000233</td>\n      <td>0.0</td>\n    </tr>\n    <tr>\n      <th>494020</th>\n      <td>0.0</td>\n      <td>0.5</td>\n      <td>0.338462</td>\n      <td>0.9</td>\n      <td>3.158461e-07</td>\n      <td>0.0</td>\n      <td>0.000239</td>\n      <td>0.0</td>\n    </tr>\n  </tbody>\n</table>\n<p>97278 rows × 8 columns</p>\n</div>"
     },
     "metadata": {}
    }
   ]
  },
  {
   "cell_type": "code",
   "source": [
    "cross_entropy = tf.keras.losses.BinaryCrossentropy(from_logits=True)"
   ],
   "metadata": {
    "execution": {
     "iopub.status.busy": "2023-03-22T15:39:50.987216Z",
     "iopub.execute_input": "2023-03-22T15:39:50.987687Z",
     "iopub.status.idle": "2023-03-22T15:39:50.993367Z",
     "shell.execute_reply.started": "2023-03-22T15:39:50.987635Z",
     "shell.execute_reply": "2023-03-22T15:39:50.992358Z"
    },
    "trusted": true
   },
   "execution_count": 71,
   "outputs": []
  },
  {
   "cell_type": "code",
   "source": [
    "def discriminator_loss(real_output, fake_output):\n",
    "    real_loss = cross_entropy(tf.ones_like(real_output), real_output)\n",
    "    fake_loss = cross_entropy(tf.zeros_like(fake_output), fake_output)\n",
    "    total_loss = real_loss + fake_loss\n",
    "    return total_loss"
   ],
   "metadata": {
    "execution": {
     "iopub.status.busy": "2023-03-22T15:39:51.357431Z",
     "iopub.execute_input": "2023-03-22T15:39:51.358144Z",
     "iopub.status.idle": "2023-03-22T15:39:51.363820Z",
     "shell.execute_reply.started": "2023-03-22T15:39:51.358104Z",
     "shell.execute_reply": "2023-03-22T15:39:51.362585Z"
    },
    "trusted": true
   },
   "execution_count": 72,
   "outputs": []
  },
  {
   "cell_type": "code",
   "source": [
    "def generator_loss(fake_output):\n",
    "    return cross_entropy(tf.ones_like(fake_output), fake_output)"
   ],
   "metadata": {
    "execution": {
     "iopub.status.busy": "2023-03-22T15:39:51.692491Z",
     "iopub.execute_input": "2023-03-22T15:39:51.692906Z",
     "iopub.status.idle": "2023-03-22T15:39:51.699169Z",
     "shell.execute_reply.started": "2023-03-22T15:39:51.692870Z",
     "shell.execute_reply": "2023-03-22T15:39:51.697667Z"
    },
    "trusted": true
   },
   "execution_count": 73,
   "outputs": []
  },
  {
   "cell_type": "code",
   "source": [
    "generator_optimizer = tf.keras.optimizers.Adam(1e-4)\n",
    "discriminator_optimizer = tf.keras.optimizers.Adam(1e-4)"
   ],
   "metadata": {
    "execution": {
     "iopub.status.busy": "2023-03-22T15:39:51.926395Z",
     "iopub.execute_input": "2023-03-22T15:39:51.927442Z",
     "iopub.status.idle": "2023-03-22T15:39:51.936564Z",
     "shell.execute_reply.started": "2023-03-22T15:39:51.927397Z",
     "shell.execute_reply": "2023-03-22T15:39:51.934793Z"
    },
    "trusted": true
   },
   "execution_count": 74,
   "outputs": []
  },
  {
   "cell_type": "code",
   "source": [
    "EPOCHS = 40\n",
    "noise_dim = 100\n",
    "#num_examples_to_generate = 16\n",
    "batch_size = 64"
   ],
   "metadata": {
    "execution": {
     "iopub.status.busy": "2023-03-22T15:39:52.171382Z",
     "iopub.execute_input": "2023-03-22T15:39:52.171891Z",
     "iopub.status.idle": "2023-03-22T15:39:52.177443Z",
     "shell.execute_reply.started": "2023-03-22T15:39:52.171848Z",
     "shell.execute_reply": "2023-03-22T15:39:52.176140Z"
    },
    "trusted": true
   },
   "execution_count": 75,
   "outputs": []
  },
  {
   "cell_type": "code",
   "source": [
    "from tqdm import tqdm"
   ],
   "metadata": {
    "execution": {
     "iopub.status.busy": "2023-03-22T15:39:52.561096Z",
     "iopub.execute_input": "2023-03-22T15:39:52.562095Z",
     "iopub.status.idle": "2023-03-22T15:39:52.567407Z",
     "shell.execute_reply.started": "2023-03-22T15:39:52.562052Z",
     "shell.execute_reply": "2023-03-22T15:39:52.566118Z"
    },
    "trusted": true
   },
   "execution_count": 76,
   "outputs": []
  },
  {
   "cell_type": "code",
   "source": [
    "@tf.function\n",
    "def train_step(images):\n",
    "    noise = tf.random.normal([batch_size, noise_dim])\n",
    "    images= tf.reshape(images,(1,42))\n",
    "    with tf.GradientTape() as gen_tape, tf.GradientTape() as disc_tape:\n",
    "      generated_images = generator(noise, training=True)\n",
    "      real_output = discriminator(images, training=True)\n",
    "      fake_output = discriminator(generated_images, training=True)\n",
    "\n",
    "      gen_loss = generator_loss(fake_output)\n",
    "      disc_loss = discriminator_loss(real_output, fake_output)\n",
    "     \n",
    "    gradients_of_generator = gen_tape.gradient(gen_loss, generator.trainable_variables)\n",
    "    gradients_of_discriminator = disc_tape.gradient(disc_loss, discriminator.trainable_variables)\n",
    "\n",
    "    generator_optimizer.apply_gradients(zip(gradients_of_generator, generator.trainable_variables))\n",
    "    discriminator_optimizer.apply_gradients(zip(gradients_of_discriminator, discriminator.trainable_variables))\n",
    "    \n",
    "    return (gen_loss,disc_loss)"
   ],
   "metadata": {
    "execution": {
     "iopub.status.busy": "2023-03-22T15:39:52.912912Z",
     "iopub.execute_input": "2023-03-22T15:39:52.913308Z",
     "iopub.status.idle": "2023-03-22T15:39:53.031553Z",
     "shell.execute_reply.started": "2023-03-22T15:39:52.913274Z",
     "shell.execute_reply": "2023-03-22T15:39:53.030092Z"
    },
    "trusted": true
   },
   "execution_count": 77,
   "outputs": []
  },
  {
   "cell_type": "code",
   "source": [
    "history=dict()\n",
    "history['gen']=[]\n",
    "history['dis']=[]\n",
    "def train(dataset, epochs):\n",
    "    for epoch in range(epochs):\n",
    "        start = time.time()\n",
    "\n",
    "        for batch in dataset:\n",
    "\n",
    "           gen_loss,dis_loss= train_step(batch)\n",
    "        history['gen'].append(gen_loss)\n",
    "        history['dis'].append(dis_loss)\n",
    "        print ('Time for epoch {} is {} sec '.format(epoch + 1, time.time()-start))"
   ],
   "metadata": {
    "execution": {
     "iopub.status.busy": "2023-03-22T15:39:53.150584Z",
     "iopub.execute_input": "2023-03-22T15:39:53.151329Z",
     "iopub.status.idle": "2023-03-22T15:39:53.175765Z",
     "shell.execute_reply.started": "2023-03-22T15:39:53.151285Z",
     "shell.execute_reply": "2023-03-22T15:39:53.174863Z"
    },
    "trusted": true
   },
   "execution_count": 78,
   "outputs": []
  },
  {
   "cell_type": "code",
   "source": [
    "x_train=df_train.values\n",
    "train(x_train,EPOCHS) "
   ],
   "metadata": {
    "execution": {
     "iopub.status.busy": "2023-03-22T15:39:53.342286Z",
     "iopub.execute_input": "2023-03-22T15:39:53.343094Z",
     "iopub.status.idle": "2023-03-22T15:41:35.812698Z",
     "shell.execute_reply.started": "2023-03-22T15:39:53.343052Z",
     "shell.execute_reply": "2023-03-22T15:41:35.811677Z"
    },
    "trusted": true
   },
   "execution_count": 79,
   "outputs": [
    {
     "name": "stdout",
     "text": "Time for epoch 1 is 5.308005094528198 sec \nTime for epoch 2 is 2.4382171630859375 sec \nTime for epoch 3 is 2.665581464767456 sec \nTime for epoch 4 is 2.5767321586608887 sec \nTime for epoch 5 is 2.521454095840454 sec \nTime for epoch 6 is 2.4341161251068115 sec \nTime for epoch 7 is 2.4114174842834473 sec \nTime for epoch 8 is 2.395197629928589 sec \nTime for epoch 9 is 2.4166853427886963 sec \nTime for epoch 10 is 2.458911418914795 sec \nTime for epoch 11 is 2.432528495788574 sec \nTime for epoch 12 is 2.4664134979248047 sec \nTime for epoch 13 is 2.47574782371521 sec \nTime for epoch 14 is 2.4435818195343018 sec \nTime for epoch 15 is 2.434582471847534 sec \nTime for epoch 16 is 2.663790702819824 sec \nTime for epoch 17 is 2.476480484008789 sec \nTime for epoch 18 is 2.457105875015259 sec \nTime for epoch 19 is 2.390516519546509 sec \nTime for epoch 20 is 2.443373203277588 sec \nTime for epoch 21 is 2.4173166751861572 sec \nTime for epoch 22 is 2.528339147567749 sec \nTime for epoch 23 is 2.51594614982605 sec \nTime for epoch 24 is 2.5805904865264893 sec \nTime for epoch 25 is 2.548556089401245 sec \nTime for epoch 26 is 2.4787354469299316 sec \nTime for epoch 27 is 2.5326218605041504 sec \nTime for epoch 28 is 2.5153543949127197 sec \nTime for epoch 29 is 2.7569119930267334 sec \nTime for epoch 30 is 2.515500783920288 sec \nTime for epoch 31 is 2.4719417095184326 sec \nTime for epoch 32 is 2.469470262527466 sec \nTime for epoch 33 is 2.539851427078247 sec \nTime for epoch 34 is 2.5294718742370605 sec \nTime for epoch 35 is 2.389033079147339 sec \nTime for epoch 36 is 2.591379404067993 sec \nTime for epoch 37 is 2.40248966217041 sec \nTime for epoch 38 is 2.441132068634033 sec \nTime for epoch 39 is 2.4505581855773926 sec \nTime for epoch 40 is 2.4704880714416504 sec \n",
     "output_type": "stream"
    }
   ]
  },
  {
   "cell_type": "markdown",
   "source": [
    "## Descriminator loss plot"
   ],
   "metadata": {}
  },
  {
   "cell_type": "code",
   "source": [
    "plt.plot(history['gen'])"
   ],
   "metadata": {
    "execution": {
     "iopub.status.busy": "2023-03-22T15:39:10.019529Z",
     "iopub.execute_input": "2023-03-22T15:39:10.019947Z",
     "iopub.status.idle": "2023-03-22T15:39:10.263794Z",
     "shell.execute_reply.started": "2023-03-22T15:39:10.019913Z",
     "shell.execute_reply": "2023-03-22T15:39:10.262720Z"
    },
    "trusted": true
   },
   "execution_count": 69,
   "outputs": [
    {
     "execution_count": 69,
     "output_type": "execute_result",
     "data": {
      "text/plain": "[<matplotlib.lines.Line2D at 0x7f525ec29090>]"
     },
     "metadata": {}
    },
    {
     "output_type": "display_data",
     "data": {
      "text/plain": "<Figure size 640x480 with 1 Axes>",
      "image/png": "[encoded data removed]"
     },
     "metadata": {}
    }
   ]
  },
  {
   "cell_type": "code",
   "source": [
    "plt.plot(history['dis'])"
   ],
   "metadata": {
    "execution": {
     "iopub.status.busy": "2023-03-22T15:39:16.697453Z",
     "iopub.execute_input": "2023-03-22T15:39:16.697865Z",
     "iopub.status.idle": "2023-03-22T15:39:16.930867Z",
     "shell.execute_reply.started": "2023-03-22T15:39:16.697831Z",
     "shell.execute_reply": "2023-03-22T15:39:16.929537Z"
    },
    "trusted": true
   },
   "execution_count": 70,
   "outputs": [
    {
     "execution_count": 70,
     "output_type": "execute_result",
     "data": {
      "text/plain": "[<matplotlib.lines.Line2D at 0x7f525db72210>]"
     },
     "metadata": {}
    },
    {
     "output_type": "display_data",
     "data": {
      "text/plain": "<Figure size 640x480 with 1 Axes>",
      "image/png": "[encoded data removed]"
     },
     "metadata": {}
    }
   ]
  },
  {
   "cell_type": "code",
   "source": [],
   "metadata": {},
   "execution_count": null,
   "outputs": []
  },
  {
   "cell_type": "code",
   "source": [],
   "metadata": {},
   "execution_count": null,
   "outputs": []
  }
 ]
}
